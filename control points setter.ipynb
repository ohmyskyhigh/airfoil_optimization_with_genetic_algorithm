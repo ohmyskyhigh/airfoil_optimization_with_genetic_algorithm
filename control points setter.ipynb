{
 "cells": [
  {
   "cell_type": "code",
   "execution_count": 8,
   "metadata": {},
   "outputs": [],
   "source": [
    "#------------------------------------------------------------------------------+\n",
    "#\n",
    "#   Nathan A. Rooy\n",
    "#   Composite Quadratic Bezier Curve Example (Airfoil)\n",
    "#   2015-08-12\n",
    "#\n",
    "#------------------------------------------------------------------------------+\n",
    "\n",
    "#--- IMPORT DEPENDENCIES ------------------------------------------------------+\n",
    "\n",
    "from __future__ import division\n",
    "import numpy as np\n",
    "\n",
    "#--- MAIN ---------------------------------------------------------------------+\n",
    "\n",
    "def quadraticBezier(t,points):\n",
    "    B_x=(1-t)*((1-t)*points[0][0]+t*points[1][0])+t*((1-t)*points[1][0]+t*points[2][0])\n",
    "    B_y=(1-t)*((1-t)*points[0][1]+t*points[1][1])+t*((1-t)*points[1][1]+t*points[2][1])\n",
    "    return B_x,B_y\n",
    "\n",
    "def airfoil(ctlPts,numPts,write):\n",
    "    curve=[]\n",
    "    t=np.array([i*1/numPts for i in range(0,numPts)])\n",
    "    \n",
    "    # calculate first Bezier curve\n",
    "    midX=(ctlPts[1][0]+ctlPts[2][0])/2\n",
    "    midY=(ctlPts[1][1]+ctlPts[2][1])/2\n",
    "    B_x0,B_y0=quadraticBezier(t,[ctlPts[0],ctlPts[1],[midX,midY]])\n",
    "    curve=curve+list(zip(B_x0,B_y0))\n",
    "\n",
    "    # calculate middle Bezier Curves\n",
    "    for i in range(1,len(ctlPts)-3):\n",
    "        p0=ctlPts[i]\n",
    "        p1=ctlPts[i+1]\n",
    "        p2=ctlPts[i+2]\n",
    "        midX_1=(ctlPts[i][0]+ctlPts[i+1][0])/2\n",
    "        midY_1=(ctlPts[i][1]+ctlPts[i+1][1])/2\n",
    "        midX_2=(ctlPts[i+1][0]+ctlPts[i+2][0])/2\n",
    "        midY_2=(ctlPts[i+1][1]+ctlPts[i+2][1])/2\n",
    "\n",
    "        B_xi,B_yi=quadraticBezier(t,[[midX_1,midY_1],ctlPts[i+1],[midX_2,midY_2]])\n",
    "        curve=curve+list(zip(B_xi,B_yi))                      \n",
    "   \n",
    "    # calculate last Bezier curve\n",
    "    midX=(ctlPts[-3][0]+ctlPts[-2][0])/2\n",
    "    midY=(ctlPts[-3][1]+ctlPts[-2][1])/2\n",
    "\n",
    "    B_x1,B_y1=quadraticBezier(t,[[midX,midY],ctlPts[-2],ctlPts[-1]])\n",
    "    curve=curve+list(zip(B_x1,B_y1))\n",
    "    curve.append(ctlPts[-1])\n",
    "\n",
    "    # write airfoil coordinates to text file\n",
    "    if write:\n",
    "        xPts,yPts=zip(*curve)\n",
    "        f=open('testa.txt','w+')\n",
    "        for i in range(len(xPts)):\n",
    "            f.write(str(xPts[i])+','+str(yPts[i])+'\\n')\n",
    "        f.close()\n",
    "\n",
    "    return curve"
   ]
  },
  {
   "cell_type": "code",
   "execution_count": 1,
   "metadata": {},
   "outputs": [],
   "source": [
    "def file2cor(files_loc):\n",
    "    '''this is to get the airfoil cordinates in list'''\n",
    "    airfoil_cor = {}\n",
    "    for airfoil, file in files_loc.items():\n",
    "        #open files\n",
    "        f = list(open(file, 'r'))\n",
    "        # get rid of \\n term and space\n",
    "        cordinate = [(i.split('\\n')[0]).split(' ')[2:] for i in f]\n",
    "        cordinate = [list(filter(lambda x: len(x) > 0, cor)) for cor in cordinate]\n",
    "        cordinate = [list(map(float, row)) for row in cordinate]\n",
    "        #therefore this becomes [[x1, y1], [x2, y2], [x3, y3] ...]\n",
    "        \n",
    "        ''' don't convert object'''\n",
    "        #put the generator back to the dictionary\n",
    "        airfoil_cor[airfoil] = cordinate\n",
    "        \n",
    "    return airfoil_cor"
   ]
  },
  {
   "cell_type": "code",
   "execution_count": 38,
   "metadata": {},
   "outputs": [],
   "source": [
    "airfoil = {'NACA4421': 'backup/NACA4421.txt', 'S813': 'backup/S813.txt'}\n",
    "cor = file2cor(airfoil)"
   ]
  },
  {
   "cell_type": "code",
   "execution_count": 39,
   "metadata": {},
   "outputs": [],
   "source": [
    "the = cor['NACA4421']"
   ]
  },
  {
   "cell_type": "code",
   "execution_count": 40,
   "metadata": {},
   "outputs": [
    {
     "data": {
      "text/plain": [
       "1.0"
      ]
     },
     "execution_count": 40,
     "metadata": {},
     "output_type": "execute_result"
    }
   ],
   "source": [
    "from sklearn.metrics import mean_squared_error\n",
    "\n",
    "a = [[0,0], [0,0], [0,0]]\n",
    "b = [[1,1], [2,2], [3,3]]\n",
    "c = [[-1,-1], [-1,-1], [-1,-1]]\n",
    "mean_squared_error(a,c)"
   ]
  },
  {
   "cell_type": "markdown",
   "metadata": {},
   "source": [
    "set bezier curve function\n",
    "\n",
    "input the airfoil cordinate\n",
    "\n",
    "generate initial contral points\n",
    "\n",
    "use STD to compare the curve section\n"
   ]
  },
  {
   "cell_type": "code",
   "execution_count": 41,
   "metadata": {},
   "outputs": [],
   "source": [
    "points=np.array([[1.0, 0.0],\n",
    "  [0.8827269908867382, 0.130369979082603],\n",
    "  [0.6486593625764748, 0.11492366376332964],\n",
    "  [0.5497639327653351, 0.1623378998671844],\n",
    "  [0.30530263978258476, 0.23688970694942604],\n",
    "  [0.20522929584780986, 0.14003161674652703],\n",
    "  [0.034664407002372805, 0.07200232957300855],\n",
    "  [-0.015244138214842495, -0.04816087293385616],\n",
    "  [0.16643887971702626, -0.08195641825300887],\n",
    "  [0.29805698428497884, -0.14388803443183465],\n",
    "  [0.5094489249090266, -0.11564793865684689],\n",
    "  [0.6822357215493822, -0.05118095354193316],\n",
    "  [0.8651112649900059, -0.01977577966874216],\n",
    "  [1.0, 0.0]])         # trailing edge (bottom)"
   ]
  },
  {
   "cell_type": "code",
   "execution_count": 42,
   "metadata": {},
   "outputs": [],
   "source": [
    "xx = points[:, 0]"
   ]
  },
  {
   "cell_type": "code",
   "execution_count": 43,
   "metadata": {},
   "outputs": [
    {
     "data": {
      "text/plain": [
       "array([ 1.        ,  0.88272699,  0.64865936,  0.54976393,  0.30530264,\n",
       "        0.2052293 ,  0.03466441, -0.01524414,  0.16643888,  0.29805698,\n",
       "        0.50944892,  0.68223572,  0.86511126,  1.        ])"
      ]
     },
     "execution_count": 43,
     "metadata": {},
     "output_type": "execute_result"
    }
   ],
   "source": [
    "xx"
   ]
  },
  {
   "cell_type": "code",
   "execution_count": 44,
   "metadata": {},
   "outputs": [],
   "source": [
    "import numpy as np\n",
    "import matplotlib.pyplot as plt\n",
    "from scipy import interpolate"
   ]
  },
  {
   "cell_type": "code",
   "execution_count": 45,
   "metadata": {},
   "outputs": [
    {
     "data": {
      "text/plain": [
       "array([ 0. ,  0.1,  0.2,  0.3,  0.4,  0.5,  0.6,  0.7,  0.8,  0.9,  1. ])"
      ]
     },
     "execution_count": 45,
     "metadata": {},
     "output_type": "execute_result"
    }
   ],
   "source": [
    "t = np.arange(0, 1.1, .1)\n",
    "t"
   ]
  },
  {
   "cell_type": "code",
   "execution_count": 50,
   "metadata": {},
   "outputs": [],
   "source": [
    "zero = cor['NACA4421'].index([0.0,0.0])\n",
    "genesUp = (the[:zero])\n",
    "genesDown = (the[zero+1:])\n",
    "\n",
    "upX = [i[0] for i in genesUp][::-1]\n",
    "upY = [i[1] for i in genesUp][::-1]\n",
    "tck = interpolate.splrep(upX, upY, s=0)\n",
    "Nx = xx[:6]\n",
    "Ny = interpolate.splev(Nx, tck, der=0)"
   ]
  },
  {
   "cell_type": "code",
   "execution_count": 56,
   "metadata": {},
   "outputs": [
    {
     "data": {
      "text/plain": [
       "[<matplotlib.lines.Line2D at 0x25955b54b70>]"
      ]
     },
     "execution_count": 56,
     "metadata": {},
     "output_type": "execute_result"
    },
    {
     "data": {
      "image/png": "[encoded data removed]",
      "text/plain": [
       "<matplotlib.figure.Figure at 0x25955c4a940>"
      ]
     },
     "metadata": {},
     "output_type": "display_data"
    }
   ],
   "source": [
    "plt.figure()\n",
    "plt.plot(upX, upY, 'b')\n",
    "plt.plot(Nx, Ny, 'x')"
   ]
  },
  {
   "cell_type": "code",
   "execution_count": 52,
   "metadata": {},
   "outputs": [
    {
     "data": {
      "text/plain": [
       "array([ 1.        ,  0.88272699,  0.64865936,  0.54976393,  0.30530264,\n",
       "        0.2052293 ])"
      ]
     },
     "execution_count": 52,
     "metadata": {},
     "output_type": "execute_result"
    }
   ],
   "source": [
    "Nx"
   ]
  }
 ],
 "metadata": {
  "kernelspec": {
   "display_name": "Python 3",
   "language": "python",
   "name": "python3"
  },
  "language_info": {
   "codemirror_mode": {
    "name": "ipython",
    "version": 3
   },
   "file_extension": ".py",
   "mimetype": "text/x-python",
   "name": "python",
   "nbconvert_exporter": "python",
   "pygments_lexer": "ipython3",
   "version": "3.6.2"
  }
 },
 "nbformat": 4,
 "nbformat_minor": 2
}
