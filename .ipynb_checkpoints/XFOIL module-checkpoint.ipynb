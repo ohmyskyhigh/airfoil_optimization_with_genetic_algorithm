{
 "cells": [
  {
   "cell_type": "markdown",
   "metadata": {},
   "source": [
    " ## XFOIL analysis with python UI"
   ]
  },
  {
   "cell_type": "markdown",
   "metadata": {},
   "source": [
    "## init"
   ]
  },
  {
   "cell_type": "code",
   "execution_count": 57,
   "metadata": {},
   "outputs": [],
   "source": [
    "import subprocess as sp\n",
    "import shutil\n",
    "import sys\n",
    "import string\n",
    "import shutil\n",
    "from os.path import isfile, join"
   ]
  },
  {
   "cell_type": "code",
   "execution_count": 24,
   "metadata": {},
   "outputs": [],
   "source": [
    "import os\n",
    "from pathlib import Path\n",
    "import sched, time\n",
    "def boostup(loc):\n",
    "    p = Path(loc)\n",
    "    #if the directory is there, delete it\n",
    "    if p.is_dir():\n",
    "        shutil.rmtree(loc)\n",
    "    #when the directory is still ther, sleep\n",
    "    while p.is_dir():\n",
    "        time.sleep(2)\n",
    "    #create da directory\n",
    "    os.makedirs(loc)\n",
    "    pass"
   ]
  },
  {
   "cell_type": "markdown",
   "metadata": {},
   "source": [
    "## file and data mining"
   ]
  },
  {
   "cell_type": "code",
   "execution_count": 25,
   "metadata": {},
   "outputs": [],
   "source": [
    "def file_mining(file):\n",
    "    #open file and convert them into list\n",
    "    f = list(open(file, 'r'))\n",
    "    #only select those data (need to be test if there is a buy)\n",
    "    f = f[12:]\n",
    "    #contains a list contains all the [alpha, CL]\n",
    "    output = [i.split()[:2] for i in f]\n",
    "    #since now output value elements are string, we need to con conver them to float\n",
    "    output = [list(map(float, row)) for row in output]\n",
    "    return output\n",
    "\n",
    "def data_mining(data_loc,reys):\n",
    "    #make the data directory of the airfoil\n",
    "    airfoils = foil_mining(data_loc)\n",
    "    for airfoil in airfoils:\n",
    "        loc = data_loc+airfoil+'/'\n",
    "        outputs = []\n",
    "        for rey in reys:\n",
    "            #get the output for each reynolds number\n",
    "            output = file_mining(loc+str(rey)+'.txt')\n",
    "            #put rey data with angle value\n",
    "            outputs.append([rey,output])\n",
    "            #example: [rey, [*angle, *cl, *cd]]\n",
    "        yield airfoil, outputs"
   ]
  },
  {
   "cell_type": "code",
   "execution_count": 26,
   "metadata": {},
   "outputs": [],
   "source": [
    "from os import listdir\n",
    "\n",
    "\n",
    "def foil_mining(airfoil_loc):\n",
    "    #get only the files in a directory \n",
    "    #if boo=True, only get files, if boo=False\n",
    "    file_list = [f for f in listdir(airfoil_loc)]\n",
    "    # get only the airfoil name\n",
    "    for f in file_list:\n",
    "        yield f.split('.')[0]"
   ]
  },
  {
   "cell_type": "markdown",
   "metadata": {},
   "source": [
    "# algorithm"
   ]
  },
  {
   "cell_type": "markdown",
   "metadata": {},
   "source": [
    "### Fitness function idea\n",
    "    1: reynolds number score:   rey: weights\n",
    "                                0.5: 1\n",
    "                                0.2: 2\n",
    "    \n",
    "    2: angle data score:        angle: weights\n",
    "                                13: 2\n",
    "                                \n",
    "                                \n",
    "    3: sum up those points\n",
    "    \n",
    "    \n",
    "    20% thickness\n",
    "    more importantly improve lift"
   ]
  },
  {
   "cell_type": "code",
   "execution_count": 27,
   "metadata": {},
   "outputs": [],
   "source": [
    "def sigmoid(x):\n",
    "    return 1/(1 + np.exp(-x))\n",
    "\n",
    "def data_check(cl):\n",
    "    if max(cl) < 1.4:\n",
    "        return True\n",
    "    else:\n",
    "        return False\n",
    "    \n",
    "def frange(start, finish, interval=1.0):\n",
    "    #frange starts from small angle to large angle\n",
    "    assert finish > start, 'frange start with smaller number'\n",
    "    x = float(start)\n",
    "    out = [x]\n",
    "    while x < float(finish):\n",
    "        x+=interval\n",
    "        out.append(round(x, 5))\n",
    "    return out"
   ]
  },
  {
   "cell_type": "code",
   "execution_count": 28,
   "metadata": {},
   "outputs": [],
   "source": [
    "import numpy as np\n",
    "def heuristic(mata_data):\n",
    "    #contains: airfoil info, rey, angles, data\n",
    "    #for each reynolds number\n",
    "    final_score = {}\n",
    "    for airfoil, data in mata_data:\n",
    "        #data [angle, cl]\n",
    "        score = 0\n",
    "        for i in data:\n",
    "            #get score for the each reynolds number\n",
    "            angleP = heuristic_angle(i[1])\n",
    "            #weight them by different reynolds number\n",
    "            reyP = heuristic_rey(i[0])\n",
    "            #sum them up\n",
    "            score += angleP * reyP\n",
    "            score = float('%.3f' % round(score, 3))\n",
    "        final_score.update({airfoil: score})\n",
    "    return final_score\n",
    "\n",
    "def heuristic_rey(rey):\n",
    "    #haven't decide the model yet!!!!!\n",
    "    '''need to discuss this'''\n",
    "    return 1\n",
    "\n",
    "def heuristic_angle(datas):\n",
    "    data = np.transpose(datas)\n",
    "    if data_check(data[1]):\n",
    "        #use costumized sigmoid function to get weights\n",
    "        ## mainly to enhance the importance of the Cls above 8 degree AOT\n",
    "        weights = 10 * sigmoid((data[0]-3) / 2.5) + 0.01\n",
    "        #get the score for each angle\n",
    "        points = data[1] * weights\n",
    "        #positive all the negative term\n",
    "        points = np.sqrt(points**2)\n",
    "        #averge them and times 10\n",
    "        final_point = np.average(points) * 10\n",
    "    else:\n",
    "        pass\n",
    "    #only output the score up to 3 decimal places\n",
    "    return final_point"
   ]
  },
  {
   "cell_type": "code",
   "execution_count": 29,
   "metadata": {},
   "outputs": [],
   "source": [
    "import operator\n",
    "def sort_airfoil(data, old_champs=[]):\n",
    "    #sort airfoil according to score from big to small\n",
    "    candidates = list(data.items())\n",
    "    candidates += old_champs\n",
    "    return (sorted(candidates, key=operator.itemgetter(1), reverse=True))"
   ]
  },
  {
   "cell_type": "markdown",
   "metadata": {},
   "source": [
    "### airfoil generator"
   ]
  },
  {
   "cell_type": "code",
   "execution_count": 125,
   "metadata": {
    "scrolled": true
   },
   "outputs": [],
   "source": [
    "def file2cor(files_loc):\n",
    "    '''this is to get the airfoil cordinates in list'''\n",
    "    airfoil_cor = {}\n",
    "    for airfoil, file in files_loc.items():\n",
    "        #open files\n",
    "        f = list(open(file, 'r'))\n",
    "        # get rid of \\n term and space\n",
    "        cordinate = [(i.split('\\n')[0]).split(' ')[2:] for i in f]\n",
    "        cordinate = [list(filter(lambda x: len(x) > 0, cor)) for cor in cordinate]\n",
    "        cordinate = [list(map(float, row)) for row in cordinate]\n",
    "        #therefore this becomes [[x1, y1], [x2, y2], [x3, y3] ...]\n",
    "        \n",
    "        #convert them into generator\n",
    "        #cordinate = (i for i in cordinate)\n",
    "        \n",
    "        ''' don't convert object'''\n",
    "        #put the generator back to the dictionary\n",
    "        airfoil_cor[airfoil] = cordinate\n",
    "        \n",
    "    return airfoil_cor\n",
    "\n",
    "def cor2file(cordinates, loc=''):\n",
    "    assert type(cordinates) == dict, 'dude, this is dictionary parameter'\n",
    "    if not os.path.isdir(loc):\n",
    "        os.makedirs(loc)\n",
    "    for airfoil, plots in cordinates.items():\n",
    "        #create a write file\n",
    "        f = open(loc+airfoil+'.txt', 'w+')\n",
    "        #turn every point into string format for joining\n",
    "        plots = list(plots)\n",
    "        plots_str = [list(map(str, row)) for row in (plots)]\n",
    "        #turned them into right format for writing into files\n",
    "        write_point = ['   '.join(row) for row in plots_str]\n",
    "        #write each point's location into the file\n",
    "        for row in write_point:\n",
    "            f.write(row+'\\n')\n",
    "        f.close()\n",
    "    pass"
   ]
  },
  {
   "cell_type": "code",
   "execution_count": 126,
   "metadata": {},
   "outputs": [],
   "source": [
    "import random\n",
    "import itertools as it\n",
    "\n",
    "list(it.combinations([1,2,3,4,], 2))\n",
    "\n",
    "def generator(parents_loc, mutation_intensity, n_gen):\n",
    "    #open those locations and get the plots\n",
    "    parents = file2cor(parents_loc)\n",
    "    #set children airfoil\n",
    "    new_airfoil = {}\n",
    "    #gen name\n",
    "    surname = 'G'+str(n_gen).zfill(2)\n",
    "    #airfoil name\n",
    "    n_foil = 0\n",
    "    first_name = 'A'+str(n_foil).zfill(2)\n",
    "    \n",
    "    #generate all the possible combinations\n",
    "    couples = list(it.combinations(list(parents.keys()), 2))\n",
    "    print(couples)\n",
    "    for father, mother in couples:\n",
    "        #papa and mama produce some children\n",
    "        child1, child2 = reproduction(parents[father], parents[mother], mutation_intensity)\n",
    "        #turns coordinates list into generator\n",
    "        child1 = (i for i in child1)\n",
    "        child2 = (i for i in child2)\n",
    "        #get airfoil serial number and put them into dictionary\n",
    "        n_foil+=1\n",
    "        new_airfoil[surname+first_name] = child1\n",
    "                \n",
    "        n_foil+=1\n",
    "        new_airfoil[surname+first_name] = child2\n",
    "        \n",
    "    print(new_airfoil)\n",
    "    return new_airfoil\n",
    "\n",
    "def reproduction(father, mother, mutation_intensity):\n",
    "    #every airfoil should start and end with [1.0, 0.0]\n",
    "    father = list(father)\n",
    "    mother = list(mother)\n",
    "    #find the split point\n",
    "    idxF = father.index([0.0, 0.0])\n",
    "    idxM = mother.index([0.0, 0.0])\n",
    "    \n",
    "    #split genes\n",
    "    genesUp = [father[:idxF], mother[:idxF]]\n",
    "    genesDown = [father[idxF+1:], mother[idxM+1:]]\n",
    "    \n",
    "    #little bit mutation\n",
    "    genesUp = mutation(genesUp, mutation_intensity)\n",
    "    genesDown = mutation(genesDown, mutation_intensity)\n",
    "    \n",
    "    #new airfoil\n",
    "    child1 = genesUp[0] + [[0.0, 0.0]] + genesDown[1]\n",
    "    child2 = genesUp[1] + [[0.0, 0.0]] + genesDown[0]\n",
    "    \n",
    "    #maximum thickness has to be 20%\n",
    "    child1 = thickness_check(child1, 0.2)\n",
    "    child2 = thickness_check(child2, 0.2)\n",
    "    \n",
    "    #make sure they are in good formate fist and last are [1.0, 0.0]\n",
    "    child1[0] = child1[-1] = [1.0, 0.0]\n",
    "    child2[0] = child2[-1] = [1.0, 0.0]\n",
    "    \n",
    "    return child1, child2\n",
    "\n",
    "def mutation(genes, Kmu):\n",
    "    for gene in genes:\n",
    "        for alleles in gene:\n",
    "            if random.random() < Kmu:\n",
    "                alleles[1] = float(alleles[1]) + random.uniform(-1.0, 1.0)/1000\n",
    "    return genes\n",
    "\n",
    "def thickness_check(plot, min_thickness):\n",
    "    return plot"
   ]
  },
  {
   "cell_type": "code",
   "execution_count": 107,
   "metadata": {},
   "outputs": [],
   "source": [
    "t1 = ['a', 'b', 'c']"
   ]
  },
  {
   "cell_type": "code",
   "execution_count": 109,
   "metadata": {},
   "outputs": [
    {
     "data": {
      "text/plain": [
       "[(1, 2), (1, 3), (1, 4), (2, 3), (2, 4), (3, 4)]"
      ]
     },
     "execution_count": 109,
     "metadata": {},
     "output_type": "execute_result"
    }
   ],
   "source": [
    "import itertools as it\n",
    "\n",
    "list(it.combinations([1,2,3,4,], 2))"
   ]
  },
  {
   "cell_type": "markdown",
   "metadata": {},
   "source": [
    "## script and setup\n",
    "\n",
    "this is to setup the script and couple the python with Xfoil\n",
    "    "
   ]
  },
  {
   "cell_type": "markdown",
   "metadata": {},
   "source": [
    "__xfoil commend:__\n",
    "    \n",
    "    LOAD dat/e1211-il.dat\tLoad the dat file\n",
    "    MDES\tGo to the MDES menu\n",
    "    FILT\tSmooth any variations in the dat file data\n",
    "    EXEC\tExecute the smoothing\n",
    "            Back to main menu\n",
    "    PANE\tSet the number and location of the airfoil points for analysis\n",
    "    OPER\tGo to the OPER menu\n",
    "    ITER 70\tMax number of iterations set to 70 for convergence\n",
    "    RE 50000\tSet Reynolds number (required?)\n",
    "    VISC 50000\tSet viscous calculation with Reynolds number\n",
    "    PACC\tStart polar output file\n",
    "    polar/e1211-il_50000.txt\tThe output polar file name\n",
    "            No dump file\n",
    "    ALFA 0\tCalculate lift and drag at 0° angle of attack\n",
    "    ALFA 0.25\t... 0.25°\n",
    "    ALFA 0.5\t... 0.5° ...\n",
    "    ...\t...more alpha calculations here ...\n",
    "    ALFA 3.5\tAt 3.5° no convergence\n",
    "    ALFA 3.5\t... try again ...\n",
    "    ALFA 3.5\t... and again\n",
    "    INIT\tRun INIT to reinitialise\n",
    "    ALFA 3.75\tSkip to 3.75°\n",
    "    ...\t...rest of alpha calculations here ...\n",
    "    PACC\tClose polar file\n",
    "    VISC\tReinitialise viscous calculation (required?)\n",
    "    Down to main menu\n",
    "    QUIT\tExit Xfoil"
   ]
  },
  {
   "cell_type": "code",
   "execution_count": 33,
   "metadata": {},
   "outputs": [],
   "source": [
    "def script(airfoil_loc, airfoil, data_loc, AOT, RE):\n",
    "    load_script = ['load '+airfoil_loc+airfoil+\".txt\", \n",
    "            airfoil,\n",
    "            'MDES',\n",
    "            'FILT',\n",
    "            'EXEC',\n",
    "            ' ',\n",
    "            'PANE',\n",
    "            'OPER',\n",
    "            'ITER 150']       \n",
    "    #define the output file name (different reynolds number has different file)\n",
    "    data_file_name = data_loc+'/'+str(RE)+'.txt'\n",
    "    #check and create file\n",
    "    constant_set = ['RE ' + str(RE),\n",
    "                    'VISC ' +str(RE),\n",
    "                    'PACC', \n",
    "                    data_file_name,\n",
    "                    ' ']\n",
    "    #analyse different angle of attack\n",
    "    alpha = ['ALFA '+str(a) for a in AOT]\n",
    "    init = constant_set + alpha + ['PACC', ' ',]\n",
    "    load_script += init\n",
    "    load_script += [' ', ' ', 'QUIT\\n']\n",
    "    return load_script"
   ]
  },
  {
   "cell_type": "code",
   "execution_count": 63,
   "metadata": {},
   "outputs": [],
   "source": [
    "def execute(airfoil_loc, airfoil, data_loc, angles, rey_range):\n",
    "    #create a directory for each airfoil\n",
    "    filedir = data_loc+airfoil\n",
    "    if not os.path.isdir(filedir):\n",
    "        os.makedirs(filedir)\n",
    "    for RE in rey_range:\n",
    "        #coupling xfoil into python\n",
    "        if not isfile(filedir+'/'+str(RE)+'.txt'):\n",
    "            ps = sp.Popen(['xfoil.exe'],\n",
    "                          stdin=sp.PIPE,\n",
    "                          stdout=None,\n",
    "                          stderr=None,\n",
    "                          encoding='utf8')\n",
    "            #execute the script\n",
    "            res = ps.communicate('\\n'.join(script(airfoil_loc,airfoil, filedir, angle_range, RE)))\n",
    "   "
   ]
  },
  {
   "cell_type": "code",
   "execution_count": 52,
   "metadata": {},
   "outputs": [],
   "source": [
    "        ps = sp.Popen(['xfoil.exe'],\n",
    "                      stdin=sp.PIPE,\n",
    "                      stdout=None,\n",
    "                      stderr=None,\n",
    "                      encoding='utf8')\n",
    "        #execute the script\n",
    "        res = ps.communicate('\\n'.join(['airfoil/1gen/S813.txt', 'S813']))\n",
    "        ps.stdout"
   ]
  },
  {
   "cell_type": "code",
   "execution_count": 124,
   "metadata": {},
   "outputs": [
    {
     "data": {
      "text/plain": [
       "['1.0', '2.2223']"
      ]
     },
     "execution_count": 124,
     "metadata": {},
     "output_type": "execute_result"
    }
   ],
   "source": [
    "list(map(str, [1.0, 2.2223]))"
   ]
  },
  {
   "cell_type": "markdown",
   "metadata": {},
   "source": [
    "## run\n",
    "\n",
    "This is to execute the whole programme with genetic algorithm.\n",
    "    \n",
    "    variables:\n",
    "    epochs\n",
    "    airfoil\n",
    "    data_loc\n",
    "    airfoil_loc\n",
    "    reynolds number range\n",
    "    angle range"
   ]
  },
  {
   "cell_type": "code",
   "execution_count": 42,
   "metadata": {},
   "outputs": [],
   "source": [
    "#constants setting\n",
    "epochs = 2\n",
    "airfoil_dir = 'airfoil/'\n",
    "data_dir = 'data/'\n",
    "angle_range = frange(-10, 10, 0.1)\n",
    "rey_range = range(100000, 600000, 100000)\n",
    "n_winners = 2\n",
    "mutation_intensity = 0.2"
   ]
  },
  {
   "cell_type": "code",
   "execution_count": 44,
   "metadata": {
    "scrolled": true
   },
   "outputs": [],
   "source": [
    "#reboost the system everytime it starts\n",
    "boostup(data_dir)\n"
   ]
  },
  {
   "cell_type": "code",
   "execution_count": 123,
   "metadata": {},
   "outputs": [
    {
     "name": "stdout",
     "output_type": "stream",
     "text": [
      "[('NACA4421', 'S823')]\n",
      "{'G01A00': <generator object generator.<locals>.<genexpr> at 0x0000027D51E87150>}\n",
      "[[1.0, 0.0], [0.996182, 0.001021], [0.985647, 0.004487], [0.969834, 0.009935], [0.949208, 0.015539657443931239], [0.923311, 0.02286], [0.892433, 0.030245], [0.857144, 0.038305], [0.818037, 0.046896], [0.775723, 0.05581], [0.73081, 0.064793], [0.68389, 0.073566], [0.635537, 0.08186384270023418], [0.586291, 0.089312], [0.536666, 0.095725], [0.487145, 0.100825], [0.438182, 0.104394], 0.0, 0.0, [0.0125, -0.0242], [0.025, -0.035700810963614105], [0.05, -0.0478], [0.075, -0.05555530591862525], [0.1, -0.0615], [0.15, -0.06762859757794554], [0.2, -0.0698], [0.25, -0.06907944788455696], [0.3, -0.0676], [0.4, -0.0616], [0.5, -0.0534], [0.6, -0.044], [0.7, -0.0335], [0.8, -0.0231], [0.9, -0.0127], [0.95, -0.0074], [1.0, 0.0]]\n"
     ]
    },
    {
     "ename": "FileNotFoundError",
     "evalue": "[Errno 2] No such file or directory: 'data/2gen/G01A00/100000.txt'",
     "output_type": "error",
     "traceback": [
      "\u001b[1;31m---------------------------------------------------------------------------\u001b[0m",
      "\u001b[1;31mFileNotFoundError\u001b[0m                         Traceback (most recent call last)",
      "\u001b[1;32m<ipython-input-123-2435bede7e93>\u001b[0m in \u001b[0;36m<module>\u001b[1;34m()\u001b[0m\n\u001b[0;32m     23\u001b[0m     \u001b[1;31m#get the scores in such order than the highers one is the first one\u001b[0m\u001b[1;33m\u001b[0m\u001b[1;33m\u001b[0m\u001b[0m\n\u001b[0;32m     24\u001b[0m     \u001b[1;34m'''we can see, here, the last gen winner will be comparing with this gen data as well'''\u001b[0m\u001b[1;33m\u001b[0m\u001b[0m\n\u001b[1;32m---> 25\u001b[1;33m     \u001b[0mscores\u001b[0m \u001b[1;33m=\u001b[0m \u001b[0msort_airfoil\u001b[0m\u001b[1;33m(\u001b[0m\u001b[0mheuristic\u001b[0m\u001b[1;33m(\u001b[0m\u001b[0mmata_data\u001b[0m\u001b[1;33m)\u001b[0m\u001b[1;33m,\u001b[0m \u001b[0mwinners\u001b[0m\u001b[1;33m)\u001b[0m\u001b[1;33m\u001b[0m\u001b[0m\n\u001b[0m\u001b[0;32m     26\u001b[0m \u001b[1;33m\u001b[0m\u001b[0m\n\u001b[0;32m     27\u001b[0m     \u001b[1;31m# choose the number of parents in this model\u001b[0m\u001b[1;33m\u001b[0m\u001b[1;33m\u001b[0m\u001b[0m\n",
      "\u001b[1;32m<ipython-input-28-c154a53ae491>\u001b[0m in \u001b[0;36mheuristic\u001b[1;34m(mata_data)\u001b[0m\n\u001b[0;32m      4\u001b[0m     \u001b[1;31m#for each reynolds number\u001b[0m\u001b[1;33m\u001b[0m\u001b[1;33m\u001b[0m\u001b[0m\n\u001b[0;32m      5\u001b[0m     \u001b[0mfinal_score\u001b[0m \u001b[1;33m=\u001b[0m \u001b[1;33m{\u001b[0m\u001b[1;33m}\u001b[0m\u001b[1;33m\u001b[0m\u001b[0m\n\u001b[1;32m----> 6\u001b[1;33m     \u001b[1;32mfor\u001b[0m \u001b[0mairfoil\u001b[0m\u001b[1;33m,\u001b[0m \u001b[0mdata\u001b[0m \u001b[1;32min\u001b[0m \u001b[0mmata_data\u001b[0m\u001b[1;33m:\u001b[0m\u001b[1;33m\u001b[0m\u001b[0m\n\u001b[0m\u001b[0;32m      7\u001b[0m         \u001b[1;31m#data [angle, cl]\u001b[0m\u001b[1;33m\u001b[0m\u001b[1;33m\u001b[0m\u001b[0m\n\u001b[0;32m      8\u001b[0m         \u001b[0mscore\u001b[0m \u001b[1;33m=\u001b[0m \u001b[1;36m0\u001b[0m\u001b[1;33m\u001b[0m\u001b[0m\n",
      "\u001b[1;32m<ipython-input-25-ef09809b5160>\u001b[0m in \u001b[0;36mdata_mining\u001b[1;34m(data_loc, reys)\u001b[0m\n\u001b[0;32m     18\u001b[0m         \u001b[1;32mfor\u001b[0m \u001b[0mrey\u001b[0m \u001b[1;32min\u001b[0m \u001b[0mreys\u001b[0m\u001b[1;33m:\u001b[0m\u001b[1;33m\u001b[0m\u001b[0m\n\u001b[0;32m     19\u001b[0m             \u001b[1;31m#get the output for each reynolds number\u001b[0m\u001b[1;33m\u001b[0m\u001b[1;33m\u001b[0m\u001b[0m\n\u001b[1;32m---> 20\u001b[1;33m             \u001b[0moutput\u001b[0m \u001b[1;33m=\u001b[0m \u001b[0mfile_mining\u001b[0m\u001b[1;33m(\u001b[0m\u001b[0mloc\u001b[0m\u001b[1;33m+\u001b[0m\u001b[0mstr\u001b[0m\u001b[1;33m(\u001b[0m\u001b[0mrey\u001b[0m\u001b[1;33m)\u001b[0m\u001b[1;33m+\u001b[0m\u001b[1;34m'.txt'\u001b[0m\u001b[1;33m)\u001b[0m\u001b[1;33m\u001b[0m\u001b[0m\n\u001b[0m\u001b[0;32m     21\u001b[0m             \u001b[1;31m#put rey data with angle value\u001b[0m\u001b[1;33m\u001b[0m\u001b[1;33m\u001b[0m\u001b[0m\n\u001b[0;32m     22\u001b[0m             \u001b[0moutputs\u001b[0m\u001b[1;33m.\u001b[0m\u001b[0mappend\u001b[0m\u001b[1;33m(\u001b[0m\u001b[1;33m[\u001b[0m\u001b[0mrey\u001b[0m\u001b[1;33m,\u001b[0m\u001b[0moutput\u001b[0m\u001b[1;33m]\u001b[0m\u001b[1;33m)\u001b[0m\u001b[1;33m\u001b[0m\u001b[0m\n",
      "\u001b[1;32m<ipython-input-25-ef09809b5160>\u001b[0m in \u001b[0;36mfile_mining\u001b[1;34m(file)\u001b[0m\n\u001b[0;32m      1\u001b[0m \u001b[1;32mdef\u001b[0m \u001b[0mfile_mining\u001b[0m\u001b[1;33m(\u001b[0m\u001b[0mfile\u001b[0m\u001b[1;33m)\u001b[0m\u001b[1;33m:\u001b[0m\u001b[1;33m\u001b[0m\u001b[0m\n\u001b[0;32m      2\u001b[0m     \u001b[1;31m#open file and convert them into list\u001b[0m\u001b[1;33m\u001b[0m\u001b[1;33m\u001b[0m\u001b[0m\n\u001b[1;32m----> 3\u001b[1;33m     \u001b[0mf\u001b[0m \u001b[1;33m=\u001b[0m \u001b[0mlist\u001b[0m\u001b[1;33m(\u001b[0m\u001b[0mopen\u001b[0m\u001b[1;33m(\u001b[0m\u001b[0mfile\u001b[0m\u001b[1;33m,\u001b[0m \u001b[1;34m'r'\u001b[0m\u001b[1;33m)\u001b[0m\u001b[1;33m)\u001b[0m\u001b[1;33m\u001b[0m\u001b[0m\n\u001b[0m\u001b[0;32m      4\u001b[0m     \u001b[1;31m#only select those data (need to be test if there is a buy)\u001b[0m\u001b[1;33m\u001b[0m\u001b[1;33m\u001b[0m\u001b[0m\n\u001b[0;32m      5\u001b[0m     \u001b[0mf\u001b[0m \u001b[1;33m=\u001b[0m \u001b[0mf\u001b[0m\u001b[1;33m[\u001b[0m\u001b[1;36m12\u001b[0m\u001b[1;33m:\u001b[0m\u001b[1;33m]\u001b[0m\u001b[1;33m\u001b[0m\u001b[0m\n",
      "\u001b[1;31mFileNotFoundError\u001b[0m: [Errno 2] No such file or directory: 'data/2gen/G01A00/100000.txt'"
     ]
    }
   ],
   "source": [
    "from tqdm import tqdm_notebook\n",
    "\n",
    "# best airfoils that is going to produce children\n",
    "winners = []\n",
    "# those airfoils file location\n",
    "winners_loc = {}\n",
    "for n in range(epochs):\n",
    "    #set generation\n",
    "    gen = str(n+1)+'gen'\n",
    "    #generate locations\n",
    "    data_loc = data_dir+gen+'/'\n",
    "    airfoil_loc = airfoil_dir+gen+'/'\n",
    "    \n",
    "    #execute airfoil to each of the airfoil in the folder\n",
    "    for airfoil in foil_mining(airfoil_loc):\n",
    "        ang_range = list(angle_range)\n",
    "        execute(airfoil_loc, airfoil, data_loc, ang_range, rey_range)\n",
    "    \n",
    "    #get lift coefficient of each angle in each reynolds number\n",
    "    mata_data = data_mining(data_loc, rey_range)\n",
    "    \n",
    "    # basically, the winners will be reused in the next generation for comparation see if the next generation got better\n",
    "    #get the scores in such order than the highers one is the first one\n",
    "    '''we can see, here, the last gen winner will be comparing with this gen data as well'''\n",
    "    scores = sort_airfoil(heuristic(mata_data), winners)\n",
    "\n",
    "    # choose the number of parents in this model\n",
    "    winners = scores[:n_winners]\n",
    "    #get the location in dict formate\n",
    "    winners_loc.update({i: airfoil_loc+i+'.txt' for i, _ in winners if i not in winners_loc})\n",
    "    winners_loc = {airfoil: winners_loc[airfoil] for airfoil, _ in winners}\n",
    "    \n",
    "    #design new airfoil usint genetic algorithm\n",
    "    new_airfoil = generator(winners_loc, mutation_intensity, n+1)\n",
    "    #new generation for saving new airfoil\n",
    "    gen = str(n+2)+'gen'\n",
    "    new_airfoil_loc = airfoil_dir+gen+'/'\n",
    "    #save new airfoil\n",
    "    cor2file(new_airfoil, new_airfoil_loc)"
   ]
  },
  {
   "cell_type": "code",
   "execution_count": 115,
   "metadata": {},
   "outputs": [
    {
     "data": {
      "text/plain": [
       "3"
      ]
     },
     "execution_count": 115,
     "metadata": {},
     "output_type": "execute_result"
    }
   ],
   "source": [
    "a =1\n",
    "b=2\n",
    "c=a+b\n",
    "b=3\n",
    "c=c\n",
    "c"
   ]
  },
  {
   "cell_type": "code",
   "execution_count": 38,
   "metadata": {},
   "outputs": [],
   "source": [
    "#set generation\n",
    "gen = 'gen'\n",
    "#generate locations\n",
    "data_loc = data_dir+gen+'/'\n",
    "airfoil_loc = airfoil_dir+gen+'/'\n",
    "# best airfoils that is going to produce children\n",
    "winners = []\n",
    "# those airfoils file location\n",
    "winners_loc = {}"
   ]
  },
  {
   "cell_type": "code",
   "execution_count": 39,
   "metadata": {},
   "outputs": [],
   "source": [
    "#execute airfoil to each of the airfoil in the folder\n",
    "for airfoil in foil_mining('airfoil/1gen'):\n",
    "    ang_range = list(angle_range)\n",
    "    execute(airfoil_loc, airfoil, data_loc, ang_range, rey_range)"
   ]
  },
  {
   "cell_type": "code",
   "execution_count": 40,
   "metadata": {},
   "outputs": [],
   "source": [
    "mata_data = data_mining(data_loc, rey_range)\n",
    "\n",
    "scores = sort_airfoil(heuristic(mata_data), winners)\n",
    "\n",
    "# basically, the winners will be reused in the next generation for comparation see if the next generation got better\n",
    "# choose the number of parents in this model\n",
    "winners = scores[:num_parents]\n",
    "#get the location in dict formate\n",
    "winners_loc.update({i: airfoil_loc+i+'.txt' for i, _ in winners if i not in winners_loc})\n",
    "winners_loc = {airfoil: winners_loc[airfoil] for airfoil, _ in winners}"
   ]
  },
  {
   "cell_type": "code",
   "execution_count": 41,
   "metadata": {},
   "outputs": [
    {
     "data": {
      "text/plain": [
       "[('NACA4421', 178.647), ('S823', 157.169)]"
      ]
     },
     "execution_count": 41,
     "metadata": {},
     "output_type": "execute_result"
    }
   ],
   "source": [
    "winners"
   ]
  }
 ],
 "metadata": {
  "kernelspec": {
   "display_name": "Python 3",
   "language": "python",
   "name": "python3"
  },
  "language_info": {
   "codemirror_mode": {
    "name": "ipython",
    "version": 3
   },
   "file_extension": ".py",
   "mimetype": "text/x-python",
   "name": "python",
   "nbconvert_exporter": "python",
   "pygments_lexer": "ipython3",
   "version": "3.6.2"
  }
 },
 "nbformat": 4,
 "nbformat_minor": 2
}
