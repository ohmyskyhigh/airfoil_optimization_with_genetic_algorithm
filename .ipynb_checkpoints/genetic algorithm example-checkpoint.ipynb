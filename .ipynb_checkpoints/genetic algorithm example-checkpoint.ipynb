{
 "cells": [
  {
   "cell_type": "code",
   "execution_count": 14,
   "metadata": {},
   "outputs": [],
   "source": [
    "def fitness(password, testword):\n",
    "    length = len(password)\n",
    "    #check if the test word is in same length\n",
    "    if(len(testword) != length):\n",
    "        print('not good')\n",
    "        return\n",
    "    else:\n",
    "        #get 1 point for each correct charactor\n",
    "        score = 0\n",
    "        for i in range(length):\n",
    "            if (password[i] == testword[i]):\n",
    "                score+=1\n",
    "        return score / length * 100"
   ]
  },
  {
   "cell_type": "code",
   "execution_count": 17,
   "metadata": {},
   "outputs": [],
   "source": [
    "import random\n",
    "\n",
    "def generator (length):\n",
    "    result = \"\"\n",
    "    for i in range(length):\n",
    "        #ramdomly select letter\n",
    "        letter = chr(97 + int(26* random.random()))\n",
    "        #append those letter become the test word\n",
    "        result += letter\n",
    "    return result\n",
    "\n",
    "\n",
    "def first_population(size, password):\n",
    "    population = []\n",
    "    #get a population of test word with size of 'size'\n",
    "    for i in range(size):\n",
    "        #append them in a list\n",
    "        population.append(generator(len(password)))\n",
    "    return population"
   ]
  },
  {
   "cell_type": "code",
   "execution_count": 25,
   "metadata": {},
   "outputs": [],
   "source": [
    "a = first_population(5, 'hello')"
   ]
  },
  {
   "cell_type": "code",
   "execution_count": 55,
   "metadata": {},
   "outputs": [],
   "source": [
    "class MyList(list):\n",
    "    def __init__(self, *args):\n",
    "        super(MyList, self).__init__(args)\n",
    "\n",
    "    def __sub__(self, other):\n",
    "        return self.__class__(*[item for item in self if item not in other])"
   ]
  },
  {
   "cell_type": "code",
   "execution_count": 111,
   "metadata": {},
   "outputs": [],
   "source": [
    "import operator\n",
    "\n",
    "def computer(population, password):\n",
    "    #this compute the score for each combination, \n",
    "    pop_score = {}\n",
    "    #input each parent to fitness function\n",
    "    for i in population:\n",
    "        pop_score[i] = fitness(password, i)\n",
    "    #arrange the population by the score, from high to low.\n",
    "    return sorted(pop_score.items(), key=operator.itemgetter(1), reverse=True)\n",
    "\n",
    "def selectFromPopulation(populationSorted, num_best, num_lucky):\n",
    "    '''num_best: the number of the best parent we are going to select to produce children\n",
    "       num_lucky: the number of lucky ones will be selected as well to produce children\n",
    "    '''\n",
    "    nextGeneration = []\n",
    "    #append those best parent into next population\n",
    "    for i in range(best_sample):\n",
    "        nextGeneration.append(nextGeneration[i][0])\n",
    "    #append some lucky guys\n",
    "    for i in range(lucky_few):\n",
    "        nextGeneration.append(random.choice(populationSorted)[0])\n",
    "    #shuffle them\n",
    "    random.shuffle(nextGeneration)\n",
    "    return nextGeneration"
   ]
  },
  {
   "cell_type": "code",
   "execution_count": null,
   "metadata": {},
   "outputs": [],
   "source": [
    "def createChild(indi1, indi2):\n",
    "    child = \"\"\n",
    "    for i in range(len(indi1)):\n",
    "        #一个位置上，50%是放indi1上去，50%放indi2上去\n",
    "        child += indi1[i] if random.randint(0,100)<50 else indi2[i]\n",
    "    return child\n",
    "\n",
    "def createChildren(breeders, num_child):\n",
    "    nextPop = []\n",
    "    for i in range(len(breeders)/2):\n",
    "\t\tfor j in range(number_of_child):\n",
    "\t\t\tnextPopulation.append(createChild(breeders[i], breeders[len(breeders) -1 -i]))\n",
    "\treturn nextPopulation"
   ]
  },
  {
   "cell_type": "code",
   "execution_count": 114,
   "metadata": {},
   "outputs": [],
   "source": [
    "a = 1\n",
    "a += 1 if 4<3 else 3"
   ]
  },
  {
   "cell_type": "code",
   "execution_count": 115,
   "metadata": {},
   "outputs": [
    {
     "data": {
      "text/plain": [
       "4"
      ]
     },
     "execution_count": 115,
     "metadata": {},
     "output_type": "execute_result"
    }
   ],
   "source": [
    "a"
   ]
  }
 ],
 "metadata": {
  "kernelspec": {
   "display_name": "Python 3",
   "language": "python",
   "name": "python3"
  },
  "language_info": {
   "codemirror_mode": {
    "name": "ipython",
    "version": 3
   },
   "file_extension": ".py",
   "mimetype": "text/x-python",
   "name": "python",
   "nbconvert_exporter": "python",
   "pygments_lexer": "ipython3",
   "version": "3.6.2"
  }
 },
 "nbformat": 4,
 "nbformat_minor": 2
}
