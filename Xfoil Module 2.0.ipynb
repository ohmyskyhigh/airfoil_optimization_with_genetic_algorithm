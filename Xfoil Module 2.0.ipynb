{
 "cells": [
  {
   "cell_type": "markdown",
   "metadata": {},
   "source": [
    " ## XFOIL analysis with python UI\n",
    " \n",
    " #### we set the control point has 6 on top edge, 6 on the bottom\n",
    " \n",
    " below is the index that has to be fixed, when calling the mutation function, those two points has fixed x aixs\n",
    "     \n",
    "     index_fix = [6]\n",
    " \n",
    " ### index\n",
    "\n",
    "* [init](#init): initial and refresh the program\n",
    "* [Bezier curve](#bezier curve): the function that builds airfoil using control points using bezier curves\n",
    "* [Generator](#generator): this is to generate new airfoil using reproduction and mutation\n",
    "* [File and Data Mining](#mining): this is to mine the data from files\n",
    "* [Heuristic Function](#eva): the algorithm of evaluation function\n",
    "* [Script](#script): couple xfoil and compose the script for calculation\n",
    "* [Run](#run): execute"
   ]
  },
  {
   "cell_type": "markdown",
   "metadata": {},
   "source": [
    "---\n",
    "<a id='init'></a>\n",
    "## init"
   ]
  },
  {
   "cell_type": "code",
   "execution_count": 1,
   "metadata": {},
   "outputs": [],
   "source": [
    "import subprocess as sp\n",
    "import shutil\n",
    "import sys\n",
    "import string\n",
    "import shutil\n",
    "from os.path import isfile, join\n",
    "from os import listdir\n",
    "import random\n",
    "import numpy as np\n",
    "import matplotlib.pyplot as plt\n",
    "from scipy import interpolate"
   ]
  },
  {
   "cell_type": "code",
   "execution_count": 2,
   "metadata": {},
   "outputs": [],
   "source": [
    "def sigmoid(x):\n",
    "    return 1/(1 + np.exp(-x))\n",
    "\n",
    "def data_check(cl):\n",
    "    if max(cl) < 1.4:\n",
    "        return True\n",
    "    else:\n",
    "        return False\n",
    "    \n",
    "def frange(start, finish, interval=1.0):\n",
    "    #frange starts from small angle to large angle\n",
    "    assert finish > start, 'frange start with smaller number'\n",
    "    x = float(start)\n",
    "    out = [x]\n",
    "    while x < float(finish):\n",
    "        x+=interval\n",
    "        out.append(round(x, 5))\n",
    "    #make sure that the last element is the finish value\n",
    "    out = list(set(out[:-1] + [float(finish)]))\n",
    "    #list element is from small to large\n",
    "    return sorted(out)\n",
    "\n",
    "def file2cor(file):\n",
    "    '''this is to get the airfoil cordinates in list'''\n",
    "    f = list(open(file, 'r'))\n",
    "    # get rid of \\n term and space\n",
    "    cordinate = [(i.split('\\n')[0]).split(' ') for i in f]\n",
    "    cordinate = [list(filter(lambda x: len(x) > 0, cor)) for cor in cordinate]\n",
    "    cordinate = [list(map(float, row)) for row in cordinate]\n",
    "    #therefore this becomes [[x1, y1], [x2, y2], [x3, y3] ...]\n",
    "\n",
    "    return cordinate"
   ]
  },
  {
   "cell_type": "code",
   "execution_count": 3,
   "metadata": {},
   "outputs": [],
   "source": [
    "import os\n",
    "from pathlib import Path\n",
    "import sched, time\n",
    "def boostup(data_loc, airfoil_loc):\n",
    "    '''this is to restart the program by erasing all the files and datas from previous calculation'''\n",
    "    p = Path(data_loc)\n",
    "    #if the directory is there, delete it\n",
    "    if p.is_dir():\n",
    "        shutil.rmtree(data_loc)\n",
    "    #when the directory is still ther, sleep\n",
    "    while p.is_dir():\n",
    "        time.sleep(2)\n",
    "    #create da directory\n",
    "    os.makedirs(data_loc)\n",
    "    \n",
    "    #get the list of dir in a path\n",
    "    f = Path(airfoil_loc)\n",
    "    #if the directory is there, delete it\n",
    "    if f.is_dir():\n",
    "        shutil.rmtree(airfoil_loc)\n",
    "    #when the directory is still ther, sleep\n",
    "    while f.is_dir():\n",
    "        time.sleep(2)\n",
    "    #create da directory\n",
    "    os.makedirs(airfoil_loc)\n",
    "    pass"
   ]
  },
  {
   "cell_type": "code",
   "execution_count": 26,
   "metadata": {},
   "outputs": [],
   "source": [
    "def ctlPts_setup(n_foil):\n",
    "\n",
    "    #setup the original control points using interpolation\n",
    "    upperX = lowerX = frange(0, 1, 1/4)\n",
    "    #get the airfoil coordiante\n",
    "    origin = file2cor('backup/FX84-218.txt')\n",
    "    zero = origin.index([0.0,0.0])\n",
    "    genesUp = (origin[:zero])[::-1]\n",
    "    genesDown = (origin[zero+1:])\n",
    "    \n",
    "    upX = [i[0] for i in genesUp]\n",
    "    upY = [i[1] for i in genesUp]\n",
    "    tck = interpolate.splrep(upX, upY, s=0)\n",
    "    upperY = interpolate.splev(upperX, tck, der=0)\n",
    "    upper = list(zip(upperX, upperY))\n",
    "    upper = [list(i) for i in upper]\n",
    "\n",
    "    downX = [i[0] for i in genesDown]\n",
    "    downY = [i[1] for i in genesDown]\n",
    "    tck = interpolate.splrep(downX, downY, s=0)\n",
    "    lowerY = interpolate.splev(lowerX, tck, der=0)\n",
    "    lower = list(zip(lowerX, lowerY))\n",
    "    lower = [list(i) for i in lower]\n",
    "    \n",
    "    #initial contral points\n",
    "    ctlPts = [upper[::-1], lower]\n",
    "\n",
    "    foils = {str(n): ctlPts_generator(ctlPts) for n in range(n_foil-1)}\n",
    "    foils.update({str(n_foil-1): ctlPts})\n",
    "    #foils = {foil index: control points setup}\n",
    "    return foils\n",
    "    \n",
    "def ctlPts_generator(ctlPts):\n",
    "    '''generate control points and save the points in backup file'''\n",
    "    #set an original airfoil then do some mutation\n",
    "    #why this? to ensure no sharp leading edge\n",
    "    ctlPts = mutation(ctlPts, 1)\n",
    "    ctlPts[0][-1][1] += random.uniform(0.2, 0.8) / 500\n",
    "\n",
    "    \n",
    "    return ctlPts"
   ]
  },
  {
   "cell_type": "code",
   "execution_count": 70,
   "metadata": {
    "scrolled": true
   },
   "outputs": [
    {
     "data": {
      "text/plain": [
       "{'0': [[[1.0, 0.0],\n",
       "   [0.7500779851355893, 0.070963983985829815],\n",
       "   [0.5003421351160571, 0.12976269713591668],\n",
       "   [0.25011746788976974, 0.13711621706177346],\n",
       "   [0.0, 0.09210748363412759]],\n",
       "  [[0.0, -0.0059304794815987641],\n",
       "   [0.24987196041781454, -0.080433361018673516],\n",
       "   [0.5000898329380369, -0.065623621182567121],\n",
       "   [0.7499286280860502, -0.034802437179666565],\n",
       "   [1.0, 0.0]]],\n",
       " '1': [[[1.0, 0.0],\n",
       "   [0.7500779851355893, 0.070963983985829815],\n",
       "   [0.5003421351160571, 0.12976269713591668],\n",
       "   [0.25011746788976974, 0.13711621706177346],\n",
       "   [0.0, 0.09210748363412759]],\n",
       "  [[0.0, -0.0059304794815987641],\n",
       "   [0.24987196041781454, -0.080433361018673516],\n",
       "   [0.5000898329380369, -0.065623621182567121],\n",
       "   [0.7499286280860502, -0.034802437179666565],\n",
       "   [1.0, 0.0]]],\n",
       " '2': [[[1.0, 0.0],\n",
       "   [0.7500779851355893, 0.070963983985829815],\n",
       "   [0.5003421351160571, 0.12976269713591668],\n",
       "   [0.25011746788976974, 0.13711621706177346],\n",
       "   [0.0, 0.09210748363412759]],\n",
       "  [[0.0, -0.0059304794815987641],\n",
       "   [0.24987196041781454, -0.080433361018673516],\n",
       "   [0.5000898329380369, -0.065623621182567121],\n",
       "   [0.7499286280860502, -0.034802437179666565],\n",
       "   [1.0, 0.0]]],\n",
       " '3': [[[1.0, 0.0],\n",
       "   [0.7500779851355893, 0.070963983985829815],\n",
       "   [0.5003421351160571, 0.12976269713591668],\n",
       "   [0.25011746788976974, 0.13711621706177346],\n",
       "   [0.0, 0.09210748363412759]],\n",
       "  [[0.0, -0.0059304794815987641],\n",
       "   [0.24987196041781454, -0.080433361018673516],\n",
       "   [0.5000898329380369, -0.065623621182567121],\n",
       "   [0.7499286280860502, -0.034802437179666565],\n",
       "   [1.0, 0.0]]],\n",
       " '4': [[[1.0, 0.0],\n",
       "   [0.7500779851355893, 0.070963983985829815],\n",
       "   [0.5003421351160571, 0.12976269713591668],\n",
       "   [0.25011746788976974, 0.13711621706177346],\n",
       "   [0.0, 0.09210748363412759]],\n",
       "  [[0.0, -0.0059304794815987641],\n",
       "   [0.24987196041781454, -0.080433361018673516],\n",
       "   [0.5000898329380369, -0.065623621182567121],\n",
       "   [0.7499286280860502, -0.034802437179666565],\n",
       "   [1.0, 0.0]]]}"
      ]
     },
     "execution_count": 70,
     "metadata": {},
     "output_type": "execute_result"
    }
   ],
   "source": [
    "ctlPts_setup(5)"
   ]
  },
  {
   "cell_type": "markdown",
   "metadata": {},
   "source": [
    "---\n",
    "<a id = 'bezier curve'></a>\n",
    "## Bezier Curve\n",
    "\n",
    "why bezier curve?\n",
    "Since when we mutate cordinate file directly, sometimes it will causes crashes of xfoil, therefore using control points approach will have a nice airfoil no matter what"
   ]
  },
  {
   "cell_type": "code",
   "execution_count": 5,
   "metadata": {},
   "outputs": [],
   "source": [
    "import numpy as np\n",
    "\n",
    "#--- MAIN ---------------------------------------------------------------------+\n",
    "def airfoil(loc, ctlPts, names, numPts, boo=True):\n",
    "    '''this function is using bezier curve to produce airfoil from control points\n",
    "    intput:   \n",
    "        foil_locs: {airfoil name: cordinate location} \n",
    "        foil_ctlPts: {airfoil name: control points}\n",
    "        foil_names: [airfoil names]\n",
    "        numPts: number of points per bezier curve\n",
    "        boo: should the file be saved (stupid parameter)\n",
    "        \n",
    "    '''\n",
    "    ctlPts = ctlPts[0] + ctlPts[1]\n",
    "\n",
    "    def quadraticBezier(t, points):\n",
    "        #recreated the bezier curve formula\n",
    "        B_x=(1-t)*((1-t)*points[0][0]+t*points[1][0])+t*((1-t)*points[1][0]+t*points[2][0])\n",
    "        B_y=(1-t)*((1-t)*points[0][1]+t*points[1][1])+t*((1-t)*points[1][1]+t*points[2][1])\n",
    "        return B_x,B_y\n",
    "\n",
    "    curve=[]\n",
    "    #construct the independent variable\n",
    "    t=np.array([i*1/numPts for i in range(0,numPts)])\n",
    "\n",
    "    # calculate first Bezier curve\n",
    "    midX=(ctlPts[1][0]+ctlPts[2][0])/2\n",
    "    midY=(ctlPts[1][1]+ctlPts[2][1])/2\n",
    "    B_x0,B_y0=quadraticBezier(t,[ctlPts[0],ctlPts[1],[midX,midY]])\n",
    "    curve=curve+list(zip(B_x0,B_y0))\n",
    "\n",
    "    # calculate middle Bezier Curves\n",
    "    for i in range(1,len(ctlPts)-3):\n",
    "        p0=ctlPts[i]\n",
    "        p1=ctlPts[i+1]\n",
    "        p2=ctlPts[i+2]\n",
    "        midX_1=(ctlPts[i][0]+ctlPts[i+1][0])/2\n",
    "        midY_1=(ctlPts[i][1]+ctlPts[i+1][1])/2\n",
    "        midX_2=(ctlPts[i+1][0]+ctlPts[i+2][0])/2\n",
    "        midY_2=(ctlPts[i+1][1]+ctlPts[i+2][1])/2\n",
    "\n",
    "        B_xi,B_yi=quadraticBezier(t,[[midX_1,midY_1],ctlPts[i+1],[midX_2,midY_2]])\n",
    "        curve=curve+list(zip(B_xi,B_yi))\n",
    "\n",
    "    # calculate last Bezier curve\n",
    "    midX=(ctlPts[-3][0]+ctlPts[-2][0])/2\n",
    "    midY=(ctlPts[-3][1]+ctlPts[-2][1])/2\n",
    "\n",
    "    B_x1,B_y1=quadraticBezier(t,[[midX,midY],ctlPts[-2],ctlPts[-1]])\n",
    "    curve=curve+list(zip(B_x1,B_y1))\n",
    "    curve.append(ctlPts[-1])\n",
    "\n",
    "    # write airfoil coordinates to text file\n",
    "    if boo:\n",
    "        xPts,yPts=zip(*curve)\n",
    "        f=open(loc,'w+')\n",
    "        for i in range(len(xPts)):\n",
    "            f.write(str(xPts[i])+','+str(yPts[i])+'\\n')\n",
    "        f.close()\n",
    "    \n",
    "    pass\n",
    "    "
   ]
  },
  {
   "cell_type": "markdown",
   "metadata": {},
   "source": [
    "---\n",
    "<a id='generator'></a>\n",
    "## Generator"
   ]
  },
  {
   "cell_type": "code",
   "execution_count": 6,
   "metadata": {},
   "outputs": [],
   "source": [
    "import itertools as it\n",
    "def generator(loc, parents_ctlPts, mut_inten, gen):\n",
    "    '''\n",
    "    input:\n",
    "        loc: the dir that where we save the airfoil cordinates\n",
    "        parents_ctlPts: {airfoil name: cordinates}\n",
    "        mut_inten = mutation intensity\n",
    "        gen = which generation\n",
    "    output:\n",
    "        foil_locs: {airfoil name: cordinate location} \n",
    "        foil_ctlPts: {airfoil name: control points}\n",
    "        foil_names: [airfoil names]\n",
    "    '''\n",
    "    #gen name\n",
    "    surname = 'G'+str(gen).zfill(2)\n",
    "    #airfoil name\n",
    "    n_foil = 0\n",
    "    first_name = 'A{}'.format\n",
    "    \n",
    "    foil_ctlPts = {}\n",
    "    foil_locs = {}\n",
    "    foil_names = []\n",
    "    \n",
    "    #generate all the possible combinations\n",
    "    couples = list(it.combinations(list(parents_ctlPts.keys()), 2))\n",
    "    for father, mother in couples:\n",
    "        #papa and mama produce some children\n",
    "        try:\n",
    "            child1, child2 = reproduction(parents_ctlPts[father], parents_ctlPts[mother], mut_inten)\n",
    "        except:\n",
    "            print(father, mother)\n",
    "\n",
    "        #get airfoil serial number and put them into dictionary\n",
    "        n_foil+=1\n",
    "        name = surname+first_name(n_foil)\n",
    "        foil_names.append(name)\n",
    "        Floc = loc+name+'.txt'\n",
    "        foil_locs[name] = Floc\n",
    "        foil_ctlPts[name] = child1\n",
    "                \n",
    "        n_foil+=1\n",
    "        name = surname+first_name(n_foil)\n",
    "        foil_names.append(name)\n",
    "        Floc = loc+name+'.txt'\n",
    "        foil_locs[name] = Floc\n",
    "        foil_ctlPts[name] = child2\n",
    "    \n",
    "    for name in foil_names:\n",
    "        ctlPts = foil_ctlPts[name]\n",
    "        loc = foil_locs[name]\n",
    "        #build airfoil cordinate using bezier curve\n",
    "        airfoil(loc, ctlPts, name, 20)\n",
    "    \n",
    "    return foil_locs, foil_ctlPts, foil_names\n",
    "\n",
    "def reproduction(father, mother, mutation_intensity):\n",
    "    \n",
    "\n",
    "    #split genes\n",
    "    genesUp = [father[0], mother[0]]\n",
    "    genesDown = [father[1], mother[1]]\n",
    "    \n",
    "    #new airfoil\n",
    "    child1 = [genesUp[0], genesDown[1]]\n",
    "    child2 = [genesUp[1], genesDown[0]]\n",
    "    \n",
    "    #make sure they are in good formate fist and last are [1.0, 0.0]\n",
    "    child1 = mutation(child1, mutation_intensity)\n",
    "    child2 = mutation(child2, mutation_intensity)\n",
    "    \n",
    "    return child1, child2"
   ]
  },
  {
   "cell_type": "code",
   "execution_count": 30,
   "metadata": {},
   "outputs": [],
   "source": [
    "def mutation(ctlPts, mut_intens):\n",
    "    '''this function is to radomize control points locations\n",
    "        ctlPts: contral points example [[top edge points], [bottom edge points]]\n",
    "        mut_intens : the probability that the point will be changed\n",
    "    '''\n",
    "\n",
    "    for Pts in range(len(ctlPts)):     \n",
    "        for i in range(len(ctlPts[Pts])):\n",
    "            if float(random.randint(0,100)) < mut_intens * 100:\n",
    "                #change x_axis\n",
    "                #keep the minimum x_axis value higher than or equal to 0\n",
    "                ctlPts[Pts][i][0] += random.uniform(-6.0,6.0) / 1000\n",
    "                while round(ctlPts[Pts][i][0], 3) < 0.0:\n",
    "                    ctlPts[Pts][i][0] += random.uniform(-1,1) / 600\n",
    "                #change y_axis\n",
    "                ctlPts[Pts][i][1] += random.uniform(-1.0, 1.0) / 1000\n",
    "    \n",
    "    #keep the first point and the last point as [1.0, 0.0]\n",
    "    ctlPts[0][0] = ctlPts[1][-1] = [1.0, 0.0]\n",
    "    #keep the middle point as 0.0\n",
    "    ctlPts[0][-1][0] = ctlPts[1][0][0] = 0.0\n",
    "    #no niddle edge\n",
    "    while ctlPts[0][-1][1] < 0.05:\n",
    "        ctlPts[0][-1][1] = random.uniform(0.07, 0.09)\n",
    "    #top edge, control points x-axis from large to small\n",
    "    ctlPts[0] = sorted(ctlPts[0], reverse=True)\n",
    "    #bottom edge, control points x-axis from small to large\n",
    "    ctlPts[1] = sorted(ctlPts[1])\n",
    "    \n",
    "    #return : [[top edge], [bottom edge]]\n",
    "    return ctlPts"
   ]
  },
  {
   "cell_type": "markdown",
   "metadata": {},
   "source": [
    "---\n",
    "<a id='mining'></a>\n",
    "## File and Data Mining"
   ]
  },
  {
   "cell_type": "code",
   "execution_count": 8,
   "metadata": {},
   "outputs": [],
   "source": [
    "from os import listdir\n",
    "\n",
    "\n",
    "def foil_mining(airfoil_loc):\n",
    "    #get only the files in a directory \n",
    "    #if boo=True, only get files, if boo=False\n",
    "    file_list = [f for f in listdir(airfoil_loc)]\n",
    "    # get only the airfoil name\n",
    "    for f in file_list:\n",
    "        yield f.split('.')[0]\n",
    "\n",
    "def file_mining(file):\n",
    "    #open file and convert them into list\n",
    "    f = list(open(file, 'r'))\n",
    "    #only select those data (need to be test if there is a buy)\n",
    "    f = f[12:]\n",
    "    #contains a list contains all the [alpha, CL]\n",
    "    output = [i.split()[:2] for i in f]\n",
    "    #since now output value elements are string, we need to con conver them to float\n",
    "    output = [list(map(float, row)) for row in output]\n",
    "    return output\n",
    "\n",
    "def data_mining(data_loc,reys):\n",
    "    #make the data directory of the airfoil\n",
    "    airfoils = foil_mining(data_loc)\n",
    "    for airfoil in airfoils:\n",
    "        loc = data_loc+airfoil+'/'\n",
    "        outputs = []\n",
    "        #use foil mining function to mine reynolds number\n",
    "        reys = foil_mining(loc)\n",
    "        for rey in reys:\n",
    "            #get the output for each reynolds number\n",
    "            output = file_mining(loc+str(rey)+'.txt')\n",
    "            #put rey data with angle value\n",
    "            outputs.append([rey,output])\n",
    "            #example: [rey, [*angle, *cl, *cd]]\n",
    "        yield airfoil, outputs"
   ]
  },
  {
   "cell_type": "markdown",
   "metadata": {},
   "source": [
    "---\n",
    "<a id='eva'></a>\n",
    "## Heuristic Function"
   ]
  },
  {
   "cell_type": "code",
   "execution_count": 75,
   "metadata": {},
   "outputs": [],
   "source": [
    "def weight(x):\n",
    "    #weights = 10 * sigmoid((x-4) / 2.5) + 0.01\n",
    "    weights = 10 * sigmoid((x-10)) + 0.01\n",
    "    return weights"
   ]
  },
  {
   "cell_type": "code",
   "execution_count": 133,
   "metadata": {},
   "outputs": [],
   "source": [
    "import numpy as np\n",
    "def heuristic(mata_data, gen):\n",
    "    #contains: airfoil info, rey, angles, data\n",
    "    #for each reynolds number\n",
    "    final_score = {}\n",
    "    for airfoil, data in mata_data:\n",
    "        #data [angle, cl]\n",
    "        score = 0\n",
    "        for i in data:\n",
    "            #get score for the each reynolds number\n",
    "            angleP = heuristic_angle(i[1], gen)\n",
    "            #weight them by different reynolds number\n",
    "            reyP = heuristic_rey(i[0])\n",
    "            #sum them up\n",
    "            score += angleP * reyP\n",
    "            score = float('%.3f' % round(score, 3))\n",
    "            \n",
    "        final_score.update({airfoil: score})\n",
    "    return final_score\n",
    "\n",
    "def heuristic_rey(rey):\n",
    "    #haven't decide the model yet!!!!!\n",
    "    '''need to discuss this'''\n",
    "    return 1\n",
    "\n",
    "def heuristic_angle(datas, gen):\n",
    "    #set initial point\n",
    "    final_point = 0\n",
    "    if datas:\n",
    "        #let only the higher angle of attack generating scores,, so solve the problem\n",
    "        data = np.transpose(datas)\n",
    "        ind = np.argwhere(data[0]>9)\n",
    "        data = data[:, ind]\n",
    "        #use costumized sigmoid function to get weights\n",
    "        ## mainly to enhance the importance of the Cls above 8 degree AOT\n",
    "        weights = weight(data[0])\n",
    "\n",
    "        #get the score for each angle\n",
    "        points = data[1] * weights\n",
    "        #positive all the negative term\n",
    "        points = np.sqrt(points**2)\n",
    "        #averge them and times 10\n",
    "        final_point = np.average(points) * 10\n",
    "    else:\n",
    "        pass\n",
    "    #only output the score up to 3 decimal places\n",
    "    return final_point"
   ]
  },
  {
   "cell_type": "markdown",
   "metadata": {},
   "source": [
    "because I am using average score, so there are false airfoil generated, they don't converge lower angle and only converge on higher angle"
   ]
  },
  {
   "cell_type": "code",
   "execution_count": 126,
   "metadata": {},
   "outputs": [
    {
     "data": {
      "text/plain": [
       "numpy.ndarray"
      ]
     },
     "execution_count": 126,
     "metadata": {},
     "output_type": "execute_result"
    }
   ],
   "source": [
    "lan_angle= angle_range\n",
    "lan = np.array([lan_angle, lan_angle])\n",
    "l = np.argwhere(lan[0]>13)\n",
    "lan = lan[:, l]\n",
    "type(lan)"
   ]
  },
  {
   "cell_type": "code",
   "execution_count": 91,
   "metadata": {},
   "outputs": [
    {
     "data": {
      "image/png": "[encoded data removed]",
      "text/plain": [
       "<matplotlib.figure.Figure at 0x22ac7488630>"
      ]
     },
     "metadata": {},
     "output_type": "display_data"
    }
   ],
   "source": [
    "\n",
    "x = np.array(frange(1, 15, 0.5))\n",
    "w = weight(x)\n",
    "plt.plot(x, w)\n",
    "plt.show()"
   ]
  },
  {
   "cell_type": "code",
   "execution_count": 93,
   "metadata": {},
   "outputs": [
    {
     "data": {
      "text/plain": [
       "array([ 0.01123395,  0.01203427,  0.0133535 ,  0.01552779,  0.01911051,\n",
       "        0.02501182,  0.03472623,  0.05070138,  0.07692851,  0.11986943,\n",
       "        0.1898621 ,  0.30312231,  0.48425873,  0.7685818 ,  1.20202922,\n",
       "        1.83425524,  2.69941421,  3.78540669,  5.01      ,  6.23459331,\n",
       "        7.32058579,  8.18574476,  8.81797078,  9.2514182 ,  9.53574127,\n",
       "        9.71687769,  9.8301379 ,  9.90013057,  9.94307149])"
      ]
     },
     "execution_count": 93,
     "metadata": {},
     "output_type": "execute_result"
    }
   ],
   "source": [
    "w"
   ]
  },
  {
   "cell_type": "code",
   "execution_count": 12,
   "metadata": {},
   "outputs": [],
   "source": [
    "import operator\n",
    "def sort_airfoil(data, old_champs=[]):\n",
    "    #sort airfoil according to score from big to small\n",
    "    candidates = list(data.items())\n",
    "    candidates += old_champs\n",
    "    return (sorted(candidates, key=operator.itemgetter(1), reverse=True))"
   ]
  },
  {
   "cell_type": "markdown",
   "metadata": {},
   "source": [
    "---\n",
    "<a id='script'></a>\n",
    "## Script"
   ]
  },
  {
   "cell_type": "code",
   "execution_count": 13,
   "metadata": {},
   "outputs": [],
   "source": [
    "def availability(airfoil_loc):    \n",
    "    # here we could check the Cl difference when running filt, if difference is too large, the airfoil is not available\n",
    "    pro = ps.Popen(['xfoil.exe'],    \n",
    "                stdin=sp.PIPE,                  \n",
    "                stdout=sp.PIPE,                  \n",
    "                stderr=None,                  \n",
    "                encoding='utf8')       \n",
    "    #execute the script   \n",
    "    script = ['load '+'airfoil/1gen/g01a1.txt', \n",
    "              'airfoil',\n",
    "              'MDES',\n",
    "              'FILT\\n']\n",
    "    res = pro.communicate('\\n'.join(script))\n",
    "    \n",
    "        #get the thickness index of the airfoil\n",
    "    result_text = list(filter(None, str(res[0]).split(' ')))\n",
    "    #find two different Cl\n",
    "    result_text = result_text[-30:]\n",
    "    Cl = [result_text[i+2] for i in range(len(result_text)) if result_text[i] == 'CL']\n",
    "    ratio = 100 * abs(float(Cl[0]) - float(Cl[0])) / float(Cl[0])\n",
    "    #what this ratio?\n",
    "    if ratio >= 0.2:\n",
    "        return False\n",
    "    else:\n",
    "        return True"
   ]
  },
  {
   "cell_type": "code",
   "execution_count": 20,
   "metadata": {},
   "outputs": [],
   "source": [
    "import psutil as ps\n",
    "\n",
    "def script(airfoil_loc, airfoil, data_loc, AOT, RE):\n",
    "    load_script = ['load '+airfoil_loc, \n",
    "            airfoil,\n",
    "            'MDES',\n",
    "            'filt',\n",
    "            'EXEC',\n",
    "            ' ',\n",
    "            'PANE',\n",
    "            'OPER',\n",
    "            'ITER 150']       \n",
    "    #define the output file name (different reynolds number has different file)\n",
    "    data_file_name = data_loc+'/'+str(RE)+'.txt'\n",
    "    #check and create file\n",
    "    constant_set = ['RE ' + str(RE),\n",
    "                    'VISC ' +str(RE),\n",
    "                    'PACC', \n",
    "                    data_file_name,\n",
    "                    ' ']\n",
    "    #analyse different angle of attack\n",
    "    alpha = ['ALFA '+str(a) for a in AOT]\n",
    "    init = constant_set + alpha + ['PACC', ' ',]\n",
    "    load_script += init\n",
    "    load_script += [' ', ' ', 'QUIT\\n']\n",
    "    return load_script"
   ]
  },
  {
   "cell_type": "code",
   "execution_count": 21,
   "metadata": {},
   "outputs": [],
   "source": [
    "def execute(airfoil_loc, airfoil, data_loc, angles, rey_range, boo):\n",
    "    #create a directory for each airfoil\n",
    "    filedir = data_loc+airfoil\n",
    "    if not os.path.isdir(filedir):\n",
    "        os.makedirs(filedir)\n",
    "    if boo:\n",
    "        for RE in rey_range:\n",
    "            #coupling xfoil into python\n",
    "            if not isfile(filedir+'/'+str(RE)+'.txt'):\n",
    "                pro = ps.Popen(['xfoil.exe'],\n",
    "                              stdin=sp.PIPE,\n",
    "                              stdout=None,\n",
    "                              stderr=None,\n",
    "                              encoding='utf8')\n",
    "                #execute the script\n",
    "                res = pro.communicate('\\n'.join(script(airfoil_loc,airfoil, filedir, angle_range, RE)))\n"
   ]
  },
  {
   "cell_type": "code",
   "execution_count": 22,
   "metadata": {},
   "outputs": [],
   "source": [
    "def thickness(airfoil_loc, min_thick):\n",
    "    '''this is to check if the airfoil have sufficient thickness'''\n",
    "    pro = ps.Popen(['xfoil.exe'],    \n",
    "                  stdin=sp.PIPE,                  \n",
    "                  stdout=sp.PIPE,                  \n",
    "                  stderr=None,                  \n",
    "                  encoding='utf8')       \n",
    "    #execute the script   \n",
    "    res = pro.communicate('\\n'.join(['load '+airfoil_loc, 'airfoil\\n']))\n",
    "    \n",
    "    #get the thickness index of the airfoil\n",
    "    result_text = list(filter(None, str(res[0]).split(' ')))\n",
    "    thickness_loc = result_text.index('thickness') + 2\n",
    "    thickness = float(result_text[thickness_loc])\n",
    "    \n",
    "    weight = thickness / min_thick\n",
    "    if float(weight) > 1.0:\n",
    "        weight = 1.0\n",
    "    return weight"
   ]
  },
  {
   "cell_type": "markdown",
   "metadata": {},
   "source": [
    "---\n",
    "<a id='run'></a>\n",
    "## Run"
   ]
  },
  {
   "cell_type": "code",
   "execution_count": 134,
   "metadata": {},
   "outputs": [],
   "source": [
    "#constants setting\n",
    "epochs = 100\n",
    "airfoil_dir = 'airfoil/'\n",
    "data_dir = 'data/'\n",
    "#'why do we choose this angle of attack'\n",
    "angle_range = frange(0, 13.5, 0.1)\n",
    "#'how to get this value?'\n",
    "rey_range = [200000]\n",
    "n_parents = 5\n",
    "mut_inten = 0.5\n",
    "#\"control points shouldn't be too many\""
   ]
  },
  {
   "cell_type": "code",
   "execution_count": 135,
   "metadata": {},
   "outputs": [],
   "source": [
    "#reboot\n",
    "boostup(data_dir, airfoil_dir)"
   ]
  },
  {
   "cell_type": "code",
   "execution_count": null,
   "metadata": {},
   "outputs": [
    {
     "data": {
      "application/vnd.jupyter.widget-view+json": {
       "model_id": "023773ccd5ab497a9c401d1ac238e3c8",
       "version_major": 2,
       "version_minor": 0
      },
      "text/html": [
       "<p>Failed to display Jupyter Widget of type <code>HBox</code>.</p>\n",
       "<p>\n",
       "  If you're reading this message in the Jupyter Notebook or JupyterLab Notebook, it may mean\n",
       "  that the widgets JavaScript is still loading. If this message persists, it\n",
       "  likely means that the widgets JavaScript library is either not installed or\n",
       "  not enabled. See the <a href=\"https://ipywidgets.readthedocs.io/en/stable/user_install.html\">Jupyter\n",
       "  Widgets Documentation</a> for setup instructions.\n",
       "</p>\n",
       "<p>\n",
       "  If you're reading this message in another frontend (for example, a static\n",
       "  rendering on GitHub or <a href=\"https://nbviewer.jupyter.org/\">NBViewer</a>),\n",
       "  it may mean that your frontend doesn't currently support widgets.\n",
       "</p>\n"
      ],
      "text/plain": [
       "HBox(children=(IntProgress(value=0, description='epochs'), HTML(value='')))"
      ]
     },
     "metadata": {},
     "output_type": "display_data"
    },
    {
     "data": {
      "application/vnd.jupyter.widget-view+json": {
       "model_id": "03a5a5e5da2d4807a771c570256dddaa",
       "version_major": 2,
       "version_minor": 0
      },
      "text/html": [
       "<p>Failed to display Jupyter Widget of type <code>HBox</code>.</p>\n",
       "<p>\n",
       "  If you're reading this message in the Jupyter Notebook or JupyterLab Notebook, it may mean\n",
       "  that the widgets JavaScript is still loading. If this message persists, it\n",
       "  likely means that the widgets JavaScript library is either not installed or\n",
       "  not enabled. See the <a href=\"https://ipywidgets.readthedocs.io/en/stable/user_install.html\">Jupyter\n",
       "  Widgets Documentation</a> for setup instructions.\n",
       "</p>\n",
       "<p>\n",
       "  If you're reading this message in another frontend (for example, a static\n",
       "  rendering on GitHub or <a href=\"https://nbviewer.jupyter.org/\">NBViewer</a>),\n",
       "  it may mean that your frontend doesn't currently support widgets.\n",
       "</p>\n"
      ],
      "text/plain": [
       "HBox(children=(IntProgress(value=0, description='airfoil', max=20), HTML(value='')))"
      ]
     },
     "metadata": {},
     "output_type": "display_data"
    },
    {
     "name": "stdout",
     "output_type": "stream",
     "text": [
      "G01A11 0\n"
     ]
    },
    {
     "data": {
      "application/vnd.jupyter.widget-view+json": {
       "model_id": "d6815d53cdbe4c82898119db2ab2ccf4",
       "version_major": 2,
       "version_minor": 0
      },
      "text/html": [
       "<p>Failed to display Jupyter Widget of type <code>HBox</code>.</p>\n",
       "<p>\n",
       "  If you're reading this message in the Jupyter Notebook or JupyterLab Notebook, it may mean\n",
       "  that the widgets JavaScript is still loading. If this message persists, it\n",
       "  likely means that the widgets JavaScript library is either not installed or\n",
       "  not enabled. See the <a href=\"https://ipywidgets.readthedocs.io/en/stable/user_install.html\">Jupyter\n",
       "  Widgets Documentation</a> for setup instructions.\n",
       "</p>\n",
       "<p>\n",
       "  If you're reading this message in another frontend (for example, a static\n",
       "  rendering on GitHub or <a href=\"https://nbviewer.jupyter.org/\">NBViewer</a>),\n",
       "  it may mean that your frontend doesn't currently support widgets.\n",
       "</p>\n"
      ],
      "text/plain": [
       "HBox(children=(IntProgress(value=0, description='airfoil', max=20), HTML(value='')))"
      ]
     },
     "metadata": {},
     "output_type": "display_data"
    },
    {
     "name": "stdout",
     "output_type": "stream",
     "text": [
      "G01A11 1\n"
     ]
    },
    {
     "data": {
      "application/vnd.jupyter.widget-view+json": {
       "model_id": "10b01aee30e94a01bb3bfa9e0c808a12",
       "version_major": 2,
       "version_minor": 0
      },
      "text/html": [
       "<p>Failed to display Jupyter Widget of type <code>HBox</code>.</p>\n",
       "<p>\n",
       "  If you're reading this message in the Jupyter Notebook or JupyterLab Notebook, it may mean\n",
       "  that the widgets JavaScript is still loading. If this message persists, it\n",
       "  likely means that the widgets JavaScript library is either not installed or\n",
       "  not enabled. See the <a href=\"https://ipywidgets.readthedocs.io/en/stable/user_install.html\">Jupyter\n",
       "  Widgets Documentation</a> for setup instructions.\n",
       "</p>\n",
       "<p>\n",
       "  If you're reading this message in another frontend (for example, a static\n",
       "  rendering on GitHub or <a href=\"https://nbviewer.jupyter.org/\">NBViewer</a>),\n",
       "  it may mean that your frontend doesn't currently support widgets.\n",
       "</p>\n"
      ],
      "text/plain": [
       "HBox(children=(IntProgress(value=0, description='airfoil', max=20), HTML(value='')))"
      ]
     },
     "metadata": {},
     "output_type": "display_data"
    },
    {
     "name": "stdout",
     "output_type": "stream",
     "text": [
      "G01A11 2\n"
     ]
    },
    {
     "data": {
      "application/vnd.jupyter.widget-view+json": {
       "model_id": "6fc38bac693a424aa3accf7720b403d2",
       "version_major": 2,
       "version_minor": 0
      },
      "text/html": [
       "<p>Failed to display Jupyter Widget of type <code>HBox</code>.</p>\n",
       "<p>\n",
       "  If you're reading this message in the Jupyter Notebook or JupyterLab Notebook, it may mean\n",
       "  that the widgets JavaScript is still loading. If this message persists, it\n",
       "  likely means that the widgets JavaScript library is either not installed or\n",
       "  not enabled. See the <a href=\"https://ipywidgets.readthedocs.io/en/stable/user_install.html\">Jupyter\n",
       "  Widgets Documentation</a> for setup instructions.\n",
       "</p>\n",
       "<p>\n",
       "  If you're reading this message in another frontend (for example, a static\n",
       "  rendering on GitHub or <a href=\"https://nbviewer.jupyter.org/\">NBViewer</a>),\n",
       "  it may mean that your frontend doesn't currently support widgets.\n",
       "</p>\n"
      ],
      "text/plain": [
       "HBox(children=(IntProgress(value=0, description='airfoil', max=20), HTML(value='')))"
      ]
     },
     "metadata": {},
     "output_type": "display_data"
    },
    {
     "name": "stdout",
     "output_type": "stream",
     "text": [
      "G01A11 3\n"
     ]
    },
    {
     "data": {
      "application/vnd.jupyter.widget-view+json": {
       "model_id": "7b243da0685645e4bfe56a7c65d0a23c",
       "version_major": 2,
       "version_minor": 0
      },
      "text/html": [
       "<p>Failed to display Jupyter Widget of type <code>HBox</code>.</p>\n",
       "<p>\n",
       "  If you're reading this message in the Jupyter Notebook or JupyterLab Notebook, it may mean\n",
       "  that the widgets JavaScript is still loading. If this message persists, it\n",
       "  likely means that the widgets JavaScript library is either not installed or\n",
       "  not enabled. See the <a href=\"https://ipywidgets.readthedocs.io/en/stable/user_install.html\">Jupyter\n",
       "  Widgets Documentation</a> for setup instructions.\n",
       "</p>\n",
       "<p>\n",
       "  If you're reading this message in another frontend (for example, a static\n",
       "  rendering on GitHub or <a href=\"https://nbviewer.jupyter.org/\">NBViewer</a>),\n",
       "  it may mean that your frontend doesn't currently support widgets.\n",
       "</p>\n"
      ],
      "text/plain": [
       "HBox(children=(IntProgress(value=0, description='airfoil', max=20), HTML(value='')))"
      ]
     },
     "metadata": {},
     "output_type": "display_data"
    },
    {
     "name": "stdout",
     "output_type": "stream",
     "text": [
      "G01A11 4\n"
     ]
    },
    {
     "data": {
      "application/vnd.jupyter.widget-view+json": {
       "model_id": "d456b829e12749b383db30d4e4a4d4df",
       "version_major": 2,
       "version_minor": 0
      },
      "text/html": [
       "<p>Failed to display Jupyter Widget of type <code>HBox</code>.</p>\n",
       "<p>\n",
       "  If you're reading this message in the Jupyter Notebook or JupyterLab Notebook, it may mean\n",
       "  that the widgets JavaScript is still loading. If this message persists, it\n",
       "  likely means that the widgets JavaScript library is either not installed or\n",
       "  not enabled. See the <a href=\"https://ipywidgets.readthedocs.io/en/stable/user_install.html\">Jupyter\n",
       "  Widgets Documentation</a> for setup instructions.\n",
       "</p>\n",
       "<p>\n",
       "  If you're reading this message in another frontend (for example, a static\n",
       "  rendering on GitHub or <a href=\"https://nbviewer.jupyter.org/\">NBViewer</a>),\n",
       "  it may mean that your frontend doesn't currently support widgets.\n",
       "</p>\n"
      ],
      "text/plain": [
       "HBox(children=(IntProgress(value=0, description='airfoil', max=20), HTML(value='')))"
      ]
     },
     "metadata": {},
     "output_type": "display_data"
    },
    {
     "name": "stdout",
     "output_type": "stream",
     "text": [
      "G01A11 5\n"
     ]
    },
    {
     "data": {
      "application/vnd.jupyter.widget-view+json": {
       "model_id": "dc390872298645a5aa82de7e3e43ba89",
       "version_major": 2,
       "version_minor": 0
      },
      "text/html": [
       "<p>Failed to display Jupyter Widget of type <code>HBox</code>.</p>\n",
       "<p>\n",
       "  If you're reading this message in the Jupyter Notebook or JupyterLab Notebook, it may mean\n",
       "  that the widgets JavaScript is still loading. If this message persists, it\n",
       "  likely means that the widgets JavaScript library is either not installed or\n",
       "  not enabled. See the <a href=\"https://ipywidgets.readthedocs.io/en/stable/user_install.html\">Jupyter\n",
       "  Widgets Documentation</a> for setup instructions.\n",
       "</p>\n",
       "<p>\n",
       "  If you're reading this message in another frontend (for example, a static\n",
       "  rendering on GitHub or <a href=\"https://nbviewer.jupyter.org/\">NBViewer</a>),\n",
       "  it may mean that your frontend doesn't currently support widgets.\n",
       "</p>\n"
      ],
      "text/plain": [
       "HBox(children=(IntProgress(value=0, description='airfoil', max=20), HTML(value='')))"
      ]
     },
     "metadata": {},
     "output_type": "display_data"
    },
    {
     "name": "stdout",
     "output_type": "stream",
     "text": [
      "G01A11 6\n"
     ]
    },
    {
     "data": {
      "application/vnd.jupyter.widget-view+json": {
       "model_id": "4fb080e3f44f4dae872e0c805710992b",
       "version_major": 2,
       "version_minor": 0
      },
      "text/html": [
       "<p>Failed to display Jupyter Widget of type <code>HBox</code>.</p>\n",
       "<p>\n",
       "  If you're reading this message in the Jupyter Notebook or JupyterLab Notebook, it may mean\n",
       "  that the widgets JavaScript is still loading. If this message persists, it\n",
       "  likely means that the widgets JavaScript library is either not installed or\n",
       "  not enabled. See the <a href=\"https://ipywidgets.readthedocs.io/en/stable/user_install.html\">Jupyter\n",
       "  Widgets Documentation</a> for setup instructions.\n",
       "</p>\n",
       "<p>\n",
       "  If you're reading this message in another frontend (for example, a static\n",
       "  rendering on GitHub or <a href=\"https://nbviewer.jupyter.org/\">NBViewer</a>),\n",
       "  it may mean that your frontend doesn't currently support widgets.\n",
       "</p>\n"
      ],
      "text/plain": [
       "HBox(children=(IntProgress(value=0, description='airfoil', max=20), HTML(value='')))"
      ]
     },
     "metadata": {},
     "output_type": "display_data"
    },
    {
     "name": "stdout",
     "output_type": "stream",
     "text": [
      "G01A11 7\n"
     ]
    },
    {
     "data": {
      "application/vnd.jupyter.widget-view+json": {
       "model_id": "74ea657fc7c0412282afc3f8e9ffa1cd",
       "version_major": 2,
       "version_minor": 0
      },
      "text/html": [
       "<p>Failed to display Jupyter Widget of type <code>HBox</code>.</p>\n",
       "<p>\n",
       "  If you're reading this message in the Jupyter Notebook or JupyterLab Notebook, it may mean\n",
       "  that the widgets JavaScript is still loading. If this message persists, it\n",
       "  likely means that the widgets JavaScript library is either not installed or\n",
       "  not enabled. See the <a href=\"https://ipywidgets.readthedocs.io/en/stable/user_install.html\">Jupyter\n",
       "  Widgets Documentation</a> for setup instructions.\n",
       "</p>\n",
       "<p>\n",
       "  If you're reading this message in another frontend (for example, a static\n",
       "  rendering on GitHub or <a href=\"https://nbviewer.jupyter.org/\">NBViewer</a>),\n",
       "  it may mean that your frontend doesn't currently support widgets.\n",
       "</p>\n"
      ],
      "text/plain": [
       "HBox(children=(IntProgress(value=0, description='airfoil', max=20), HTML(value='')))"
      ]
     },
     "metadata": {},
     "output_type": "display_data"
    },
    {
     "name": "stdout",
     "output_type": "stream",
     "text": [
      "G01A11 8\n"
     ]
    }
   ],
   "source": [
    "from tqdm import tqdm_notebook\n",
    "\n",
    "parents_names = [] #parents' names\n",
    "parents_ctlPts = {} #{names: control points}\n",
    "parents_loc = {} #{names: cordinate locations}\n",
    "parents_scores = [] # [(airfoil names, scores)]\n",
    "last_MVA = ''\n",
    "\n",
    "#set control points\n",
    "cntPts = ctlPts_setup(n_parents)\n",
    "#return: {name: cntPts}\n",
    "parents_ctlPts.update(cntPts)\n",
    "\n",
    "#set up most valuable airfoil list for each generation\n",
    "record = open('airfoil/MVA.txt', 'w+')\n",
    "record.write('---\\n')\n",
    "record.close()\n",
    "\n",
    "#run the loop\n",
    "for n in tqdm_notebook(range(epochs), desc='epochs'):\n",
    "    #set generation\n",
    "    gen = str(n+1)\n",
    "    #set airfoil and data directory\n",
    "    data_loc = data_dir+str(gen)+'gen/'\n",
    "    airfoil_loc = airfoil_dir+str(gen)+'gen/'\n",
    "\n",
    "    #create airfoil dir and data dir\n",
    "    os.makedirs(data_loc)\n",
    "    os.makedirs(airfoil_loc)\n",
    "\n",
    "#'foil stage'    \n",
    "    #generate airfoil cord\"inate\n",
    "    foil_locs, foil_ctlPts, foil_names= generator(airfoil_loc, parents_ctlPts, mut_inten, gen)\n",
    "    #foil_locs = {names, locations}, foil_ctlPts = {names, control points}, foil_names = [airfoil names]\n",
    "\n",
    "    for Fname in tqdm_notebook(foil_names, desc='airfoil', leave=False):\n",
    "        airfoil_loc = foil_locs[Fname]\n",
    "        boo = availability(airfoil_loc)\n",
    "        execute(airfoil_loc, Fname, data_loc, angle_range, rey_range, boo)\n",
    "        #load airfoil from airfoil_loc and use xfoil compute the necessary values nad dump data into data_loc\n",
    "\n",
    "    #get lift coefficient of each angle in each reynolds number\n",
    "    mata_data = data_mining(data_loc, rey_range)\n",
    "    #mata_data = [airfoiil name [*rey, [*angle, *Cl]]]\n",
    "\n",
    "    # basically, the winners will be reused in the next generation for comparation see if the next generation got better\n",
    "    #get the scores in such order than the highers one is the first one\n",
    "    #we can see, here, the last gen winner will be comparing with this gen data as well\n",
    "    foil_scores = heuristic(mata_data, n)\n",
    "    #foil_scores = {airfoil name: score}\n",
    "\n",
    "    #check if the airfoil is thick enough\n",
    "    # below 20%, the score will times the ration of thickness/minimum thickness\n",
    "    for Fname in foil_scores.keys():\n",
    "        w = thickness(foil_locs[Fname], 0.2)\n",
    "        foil_scores[Fname] = w * foil_scores[Fname]\n",
    "\n",
    "#'choose parents'\n",
    "    #foil_scores = {airfoil names: scores}\n",
    "    rank = sort_airfoil(foil_scores, parents_scores)\n",
    "    #rank = [(airfoil name*, scores*)]\n",
    "\n",
    "\n",
    "    # choose the number of parents in this model\n",
    "    parents_scores = rank[:n_parents]\n",
    "    parents_names = [i for i, _ in parents_scores]    \n",
    "\n",
    "    #update the parents' location in dict formate\n",
    "    #update the new parents airfoil locations\n",
    "    parents_loc.update({Fname: foil_locs[Fname] for Fname in parents_names if Fname not in parents_loc})\n",
    "    #filt the parents that are no longer good enough\n",
    "    parents_loc = {Fname: parents_loc[Fname] for Fname in parents_names}\n",
    "\n",
    "    #update the parents' control points\n",
    "    #update the new parents airfoil control points\n",
    "    parents_ctlPts.update({Fname: foil_ctlPts[Fname] for Fname in parents_names if Fname not in parents_ctlPts})\n",
    "    #filt the parents that are no longer good enough\n",
    "    parents_ctlPts = {Fname: parents_ctlPts[Fname] for Fname in parents_names}\n",
    "\n",
    "    #choose the MVA most valuable airfoil and write the name to a file\n",
    "    MVA_name = str(rank[0][0])\n",
    "    #+1 if last MVA is the same as this one\n",
    "    if MVA_name == last_MVA:\n",
    "        count += 1\n",
    "    else:\n",
    "        count = 0\n",
    "    print(MVA_name, count)\n",
    "    last_MVA = MVA_name\n",
    "    MVA_loc = str(parents_loc[MVA_name])\n",
    "    MVA_score = str(parents_scores[0][1])\n",
    "    stuff = MVA_name + ', '+MVA_loc+' '+MVA_score+ '\\n'\n",
    "    record = open('airfoil/MVA.txt', 'a')\n",
    "    record.write(stuff)\n",
    "\n",
    "    #if the MVA is the same in the consistant 10 generation. stop the program\n",
    "    if count == 50:\n",
    "        break\n",
    "    record.close()\n"
   ]
  },
  {
   "cell_type": "code",
   "execution_count": 120,
   "metadata": {},
   "outputs": [],
   "source": [
    "data_loc = data_dir+str(0)+'gen/'\n",
    "execute('backup/FX84-218.txt', 'fx84', data_loc, angle_range, rey_range, True)\n"
   ]
  },
  {
   "cell_type": "code",
   "execution_count": 130,
   "metadata": {},
   "outputs": [
    {
     "name": "stdout",
     "output_type": "stream",
     "text": [
      "[[[  9.1   ]\n",
      "  [  9.2   ]\n",
      "  [  9.3   ]\n",
      "  [  9.4   ]\n",
      "  [  9.5   ]\n",
      "  [  9.6   ]\n",
      "  [  9.7   ]\n",
      "  [  9.8   ]\n",
      "  [  9.9   ]\n",
      "  [ 10.    ]\n",
      "  [ 10.1   ]\n",
      "  [ 10.2   ]\n",
      "  [ 10.3   ]\n",
      "  [ 10.4   ]\n",
      "  [ 10.5   ]\n",
      "  [ 10.6   ]\n",
      "  [ 10.7   ]\n",
      "  [ 10.8   ]\n",
      "  [ 10.9   ]\n",
      "  [ 11.    ]\n",
      "  [ 11.1   ]\n",
      "  [ 11.2   ]\n",
      "  [ 11.3   ]\n",
      "  [ 11.4   ]\n",
      "  [ 11.5   ]\n",
      "  [ 11.6   ]\n",
      "  [ 11.7   ]\n",
      "  [ 11.8   ]\n",
      "  [ 11.9   ]\n",
      "  [ 12.    ]\n",
      "  [ 12.1   ]\n",
      "  [ 12.2   ]\n",
      "  [ 12.3   ]\n",
      "  [ 12.4   ]\n",
      "  [ 12.5   ]\n",
      "  [ 12.6   ]\n",
      "  [ 12.7   ]\n",
      "  [ 12.8   ]\n",
      "  [ 12.9   ]\n",
      "  [ 13.    ]\n",
      "  [ 13.1   ]\n",
      "  [ 13.2   ]\n",
      "  [ 13.3   ]\n",
      "  [ 13.4   ]\n",
      "  [ 13.5   ]]\n",
      "\n",
      " [[  1.1401]\n",
      "  [  1.1479]\n",
      "  [  1.1598]\n",
      "  [  1.1754]\n",
      "  [  1.1948]\n",
      "  [  1.1814]\n",
      "  [  1.1769]\n",
      "  [  1.179 ]\n",
      "  [  1.1857]\n",
      "  [  1.1964]\n",
      "  [  1.2114]\n",
      "  [  1.2301]\n",
      "  [  1.2174]\n",
      "  [  1.2138]\n",
      "  [  1.2155]\n",
      "  [  1.2221]\n",
      "  [  1.2325]\n",
      "  [  1.2501]\n",
      "  [  1.2525]\n",
      "  [  1.2443]\n",
      "  [  1.243 ]\n",
      "  [  1.2469]\n",
      "  [  1.2548]\n",
      "  [  1.2703]\n",
      "  [  1.2758]\n",
      "  [  1.2673]\n",
      "  [  1.2649]\n",
      "  [  1.2677]\n",
      "  [  1.2759]\n",
      "  [  1.292 ]\n",
      "  [  1.2895]\n",
      "  [  1.283 ]\n",
      "  [  1.2821]\n",
      "  [  1.2859]\n",
      "  [  1.2964]\n",
      "  [  1.309 ]\n",
      "  [  1.3   ]\n",
      "  [  1.2962]\n",
      "  [  1.2973]\n",
      "  [  1.3039]\n",
      "  [  1.3173]\n",
      "  [  1.3141]\n",
      "  [  1.3086]\n",
      "  [  1.308 ]\n",
      "  [  1.312 ]]]\n",
      "91.4019225096\n"
     ]
    }
   ],
   "source": [
    "mata_data = data_mining(data_loc, rey_range)\n",
    "foil_scores = heuristic(mata_data, n)"
   ]
  },
  {
   "cell_type": "code",
   "execution_count": 96,
   "metadata": {},
   "outputs": [
    {
     "data": {
      "text/plain": [
       "{'G16A7': 279.122, 'fx84': 447.771}"
      ]
     },
     "execution_count": 96,
     "metadata": {},
     "output_type": "execute_result"
    }
   ],
   "source": [
    "foil_scores"
   ]
  },
  {
   "cell_type": "code",
   "execution_count": 102,
   "metadata": {},
   "outputs": [
    {
     "data": {
      "text/plain": [
       "{'G16A7': 77.534, 'fx84': 124.381}"
      ]
     },
     "execution_count": 102,
     "metadata": {},
     "output_type": "execute_result"
    }
   ],
   "source": [
    "foil_scores"
   ]
  },
  {
   "cell_type": "code",
   "execution_count": null,
   "metadata": {},
   "outputs": [],
   "source": []
  }
 ],
 "metadata": {
  "kernelspec": {
   "display_name": "Python 3",
   "language": "python",
   "name": "python3"
  },
  "language_info": {
   "codemirror_mode": {
    "name": "ipython",
    "version": 3
   },
   "file_extension": ".py",
   "mimetype": "text/x-python",
   "name": "python",
   "nbconvert_exporter": "python",
   "pygments_lexer": "ipython3",
   "version": "3.6.2"
  }
 },
 "nbformat": 4,
 "nbformat_minor": 2
}
