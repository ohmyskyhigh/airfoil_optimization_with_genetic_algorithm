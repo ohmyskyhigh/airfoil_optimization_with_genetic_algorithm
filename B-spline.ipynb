{
 "cells": [
  {
   "cell_type": "code",
   "execution_count": 38,
   "metadata": {},
   "outputs": [],
   "source": [
    "from scipy.interpolate import BSpline"
   ]
  },
  {
   "cell_type": "code",
   "execution_count": 44,
   "metadata": {},
   "outputs": [],
   "source": [
    "x = np.linspace(0,10,14)\n",
    "y = [0,1,2,2,3,4,2 , -1, -2,-3,-2,-1,-1,0]\n",
    "spl = BSpline(x, y, 4)"
   ]
  },
  {
   "cell_type": "code",
   "execution_count": 42,
   "metadata": {},
   "outputs": [
    {
     "data": {
      "text/plain": [
       "array([ 10.        ,   8.33333333,   6.66666667,   5.        ,\n",
       "         3.33333333,   1.66666667,   0.        ,   0.        ,\n",
       "         1.66666667,   3.33333333,   5.        ,   6.66666667,\n",
       "         8.33333333,  10.        ])"
      ]
     },
     "execution_count": 42,
     "metadata": {},
     "output_type": "execute_result"
    }
   ],
   "source": [
    "xx"
   ]
  },
  {
   "cell_type": "code",
   "execution_count": 49,
   "metadata": {},
   "outputs": [],
   "source": [
    "import numpy as np\n",
    "import matplotlib.pyplot as plt\n",
    "\n",
    "xx = np.linspace(1, 9, 100)\n",
    "yy = [spl(i) for i in xx]"
   ]
  },
  {
   "cell_type": "code",
   "execution_count": 50,
   "metadata": {},
   "outputs": [
    {
     "data": {
      "text/plain": [
       "<matplotlib.text.Text at 0x1ff26a94eb8>"
      ]
     },
     "execution_count": 50,
     "metadata": {},
     "output_type": "execute_result"
    },
    {
     "data": {
      "image/png": "[encoded data removed]",
      "text/plain": [
       "<matplotlib.figure.Figure at 0x1ff26a5ebe0>"
      ]
     },
     "metadata": {},
     "output_type": "display_data"
    }
   ],
   "source": [
    "plt.plot(xx, spl(xx), 'b', label='Bsp')\n",
    "plt.plot(xx, yy, color='#666666',)\n",
    "plt.plot(x, y, 'o', mfc='none', mec='r',markersize=8, label='control points')\n",
    "plt.title('Quadratic Bezier Curve')"
   ]
  },
  {
   "cell_type": "code",
   "execution_count": 14,
   "metadata": {},
   "outputs": [],
   "source": [
    "points = [[0, 0], [0, 2], [2, 3], [4, 0], [6, 3], [8, 2], [8, 0]];\n",
    "points = np.array(points)\n",
    "x = points[:,0]\n",
    "y = points[:,1]"
   ]
  },
  {
   "cell_type": "code",
   "execution_count": 15,
   "metadata": {},
   "outputs": [],
   "source": [
    "t = range(len(points))\n",
    "ipl_t = np.linspace(0.0, len(points) - 1, 100)"
   ]
  },
  {
   "cell_type": "code",
   "execution_count": 16,
   "metadata": {},
   "outputs": [
    {
     "data": {
      "text/plain": [
       "array([ 0.        ,  0.06060606,  0.12121212,  0.18181818,  0.24242424,\n",
       "        0.3030303 ,  0.36363636,  0.42424242,  0.48484848,  0.54545455,\n",
       "        0.60606061,  0.66666667,  0.72727273,  0.78787879,  0.84848485,\n",
       "        0.90909091,  0.96969697,  1.03030303,  1.09090909,  1.15151515,\n",
       "        1.21212121,  1.27272727,  1.33333333,  1.39393939,  1.45454545,\n",
       "        1.51515152,  1.57575758,  1.63636364,  1.6969697 ,  1.75757576,\n",
       "        1.81818182,  1.87878788,  1.93939394,  2.        ,  2.06060606,\n",
       "        2.12121212,  2.18181818,  2.24242424,  2.3030303 ,  2.36363636,\n",
       "        2.42424242,  2.48484848,  2.54545455,  2.60606061,  2.66666667,\n",
       "        2.72727273,  2.78787879,  2.84848485,  2.90909091,  2.96969697,\n",
       "        3.03030303,  3.09090909,  3.15151515,  3.21212121,  3.27272727,\n",
       "        3.33333333,  3.39393939,  3.45454545,  3.51515152,  3.57575758,\n",
       "        3.63636364,  3.6969697 ,  3.75757576,  3.81818182,  3.87878788,\n",
       "        3.93939394,  4.        ,  4.06060606,  4.12121212,  4.18181818,\n",
       "        4.24242424,  4.3030303 ,  4.36363636,  4.42424242,  4.48484848,\n",
       "        4.54545455,  4.60606061,  4.66666667,  4.72727273,  4.78787879,\n",
       "        4.84848485,  4.90909091,  4.96969697,  5.03030303,  5.09090909,\n",
       "        5.15151515,  5.21212121,  5.27272727,  5.33333333,  5.39393939,\n",
       "        5.45454545,  5.51515152,  5.57575758,  5.63636364,  5.6969697 ,\n",
       "        5.75757576,  5.81818182,  5.87878788,  5.93939394,  6.        ])"
      ]
     },
     "execution_count": 16,
     "metadata": {},
     "output_type": "execute_result"
    }
   ],
   "source": [
    "ipl_t"
   ]
  }
 ],
 "metadata": {
  "kernelspec": {
   "display_name": "Python 3",
   "language": "python",
   "name": "python3"
  },
  "language_info": {
   "codemirror_mode": {
    "name": "ipython",
    "version": 3
   },
   "file_extension": ".py",
   "mimetype": "text/x-python",
   "name": "python",
   "nbconvert_exporter": "python",
   "pygments_lexer": "ipython3",
   "version": "3.6.2"
  }
 },
 "nbformat": 4,
 "nbformat_minor": 2
}
