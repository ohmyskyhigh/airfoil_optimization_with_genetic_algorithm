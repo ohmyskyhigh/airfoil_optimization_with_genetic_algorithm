{
 "cells": [
  {
   "cell_type": "markdown",
   "metadata": {},
   "source": [
    "## XFOIL analysis with python UI"
   ]
  },
  {
   "cell_type": "markdown",
   "metadata": {},
   "source": [
    "    Commend \"LOAD\"\n",
    "            \"GDES\" switches the XFOIL to geometry design stage\n",
    "            \"CADD\" adds corner points to satisfy user specified angle threshold.\n",
    "            \"PANEL\" regenerates vertices\n",
    "            \"OPER\" switches the program to aerodynamic analysis mode\n",
    "            \"ALFA 5\" angle of attack = 5\n",
    "        "
   ]
  },
  {
   "cell_type": "code",
   "execution_count": 43,
   "metadata": {},
   "outputs": [],
   "source": [
    "import subprocess as sp\n",
    "import shutil\n",
    "import sys\n",
    "import string"
   ]
  },
  {
   "cell_type": "code",
   "execution_count": 50,
   "metadata": {},
   "outputs": [],
   "source": [
    "ps = sp.Popen(['xfoil.exe'],\n",
    "              stdin=sp.PIPE,\n",
    "              stdout=None,\n",
    "              stderr=None,\n",
    "              encoding='utf8')"
   ]
  },
  {
   "cell_type": "code",
   "execution_count": null,
   "metadata": {},
   "outputs": [],
   "source": [
    "def script(load_file, data_file, ALPHA, Reynold):\n",
    "    load = ['load '+load_file,\n",
    "            'MDES,FILT,EXEC',\n",
    "            ' ',\n",
    "            'PANE',\n",
    "            'OPER',\n",
    "            'ITER 70']\n",
    "    for RE in Reynold:\n",
    "        constant_set = []\n",
    "              \n",
    "              ['RE 750000','VISC 750000','PACC','data/S813.dat','','ALFA 0\\n']"
   ]
  },
  {
   "cell_type": "code",
   "execution_count": 51,
   "metadata": {},
   "outputs": [],
   "source": [
    "def issueCmd(cmd, echo=True):\n",
    "    \"submit a command through PIPE to the command liine\"\n",
    "    ps.stdin.write(cmd+'\\n')\n",
    "    if echo:\n",
    "        print(cmd)"
   ]
  },
  {
   "cell_type": "code",
   "execution_count": 52,
   "metadata": {},
   "outputs": [],
   "source": [
    "res = ps.communicate('\\n'.join(['load s813.txt',\n",
    "                               'MDES,FILT,EXEC',\n",
    "                               ' ',\n",
    "                               'PANE',\n",
    "                               'OPER',\n",
    "                               'ITER 70',\n",
    "                               'RE 750000',\n",
    "                               'VISC 750000',\n",
    "                               'PACC',\n",
    "                               'data/S813.dat',\n",
    "                               '',\n",
    "                               'ALFA 0\\n']))"
   ]
  },
  {
   "cell_type": "code",
   "execution_count": 53,
   "metadata": {},
   "outputs": [],
   "source": [
    "a = \"123\"\n",
    "b = [\"2\"+a, \"333\"]"
   ]
  },
  {
   "cell_type": "code",
   "execution_count": 54,
   "metadata": {},
   "outputs": [
    {
     "data": {
      "text/plain": [
       "['2123', '333']"
      ]
     },
     "execution_count": 54,
     "metadata": {},
     "output_type": "execute_result"
    }
   ],
   "source": [
    "b"
   ]
  }
 ],
 "metadata": {
  "kernelspec": {
   "display_name": "Python 3",
   "language": "python",
   "name": "python3"
  },
  "language_info": {
   "codemirror_mode": {
    "name": "ipython",
    "version": 3
   },
   "file_extension": ".py",
   "mimetype": "text/x-python",
   "name": "python",
   "nbconvert_exporter": "python",
   "pygments_lexer": "ipython3",
   "version": "3.6.2"
  }
 },
 "nbformat": 4,
 "nbformat_minor": 2
}
