{
 "cells": [
  {
   "cell_type": "markdown",
   "metadata": {},
   "source": [
    "## XFOIL analysis with python UI"
   ]
  },
  {
   "cell_type": "markdown",
   "metadata": {},
   "source": [
    "    Commend \"LOAD\"\n",
    "            \"GDES\" switches the XFOIL to geometry design stage\n",
    "            \"CADD\" adds corner points to satisfy user specified angle threshold.\n",
    "            \"PANEL\" regenerates vertices\n",
    "            \"OPER\" switches the program to aerodynamic analysis mode\n",
    "            \"ALFA 5\" angle of attack = 5\n",
    "        "
   ]
  },
  {
   "cell_type": "code",
   "execution_count": 1,
   "metadata": {},
   "outputs": [],
   "source": [
    "import subprocess as sp\n",
    "import shutil\n",
    "import sys\n",
    "import string\n",
    "import shutil\n"
   ]
  },
  {
   "cell_type": "code",
   "execution_count": 2,
   "metadata": {},
   "outputs": [],
   "source": [
    "import os\n",
    "from pathlib import Path\n",
    "import sched, time\n",
    "def boostup(loc):\n",
    "    p = Path(loc)\n",
    "    #if the directory is there, delete it\n",
    "    if p.is_dir():\n",
    "        shutil.rmtree(loc)\n",
    "    #when the directory is still ther, sleep\n",
    "    while p.is_dir():\n",
    "        time.sleep(2)\n",
    "    #create da directory\n",
    "    os.makedirs(loc)\n",
    "    pass"
   ]
  },
  {
   "cell_type": "markdown",
   "metadata": {},
   "source": [
    "## xfoil commend\n",
    "    LOAD dat/e1211-il.dat\tLoad the dat file\n",
    "    MDES\tGo to the MDES menu\n",
    "    FILT\tSmooth any variations in the dat file data\n",
    "    EXEC\tExecute the smoothing\n",
    "            Back to main menu\n",
    "    PANE\tSet the number and location of the airfoil points for analysis\n",
    "    OPER\tGo to the OPER menu\n",
    "    ITER 70\tMax number of iterations set to 70 for convergence\n",
    "    RE 50000\tSet Reynolds number (required?)\n",
    "    VISC 50000\tSet viscous calculation with Reynolds number\n",
    "    PACC\tStart polar output file\n",
    "    polar/e1211-il_50000.txt\tThe output polar file name\n",
    "            No dump file\n",
    "    ALFA 0\tCalculate lift and drag at 0° angle of attack\n",
    "    ALFA 0.25\t... 0.25°\n",
    "    ALFA 0.5\t... 0.5° ...\n",
    "    ...\t...more alpha calculations here ...\n",
    "    ALFA 3.5\tAt 3.5° no convergence\n",
    "    ALFA 3.5\t... try again ...\n",
    "    ALFA 3.5\t... and again\n",
    "    INIT\tRun INIT to reinitialise\n",
    "    ALFA 3.75\tSkip to 3.75°\n",
    "    ...\t...rest of alpha calculations here ...\n",
    "    PACC\tClose polar file\n",
    "    VISC\tReinitialise viscous calculation (required?)\n",
    "    Down to main menu\n",
    "    QUIT\tExit Xfoil"
   ]
  },
  {
   "cell_type": "code",
   "execution_count": 3,
   "metadata": {},
   "outputs": [],
   "source": [
    "def script(airfoil_loc, airfoil, data_loc, AOT, RE):\n",
    "    load_script = ['load '+airfoil_loc+airfoil+\".txt\", \n",
    "            airfoil,\n",
    "            'MDES',\n",
    "            'FILT',\n",
    "            'EXEC',\n",
    "            ' ',\n",
    "            'PANE',\n",
    "            'OPER',\n",
    "            'ITER 150']       \n",
    "    #define the output file name (different reynolds number has different file)\n",
    "    data_file_name = data_loc+'/'+str(RE)+'.txt'\n",
    "    #check and create file\n",
    "    constant_set = ['RE ' + str(RE),\n",
    "                    'VISC ' +str(RE),\n",
    "                    'PACC', \n",
    "                    data_file_name,\n",
    "                    ' ']\n",
    "    #analyse different angle of attack\n",
    "    alpha = ['ALFA '+str(a) for a in AOT]\n",
    "    init = constant_set + alpha + ['PACC', ' ',]\n",
    "    load_script += init\n",
    "    load_script += [' ', ' ', 'QUIT\\n']\n",
    "    return load_script"
   ]
  },
  {
   "cell_type": "code",
   "execution_count": 4,
   "metadata": {},
   "outputs": [],
   "source": [
    "def file_mining(file):\n",
    "    #open file and convert them into list\n",
    "    f = list(open(file, 'r'))\n",
    "    #only select those data (need to be test if there is a buy)\n",
    "    f = f[12:]\n",
    "    #contains a list contains all the [alpha, CL]\n",
    "    output = [i.split()[:2] for i in f]\n",
    "    #since now output value elements are string, we need to con conver them to float\n",
    "    output = [list(map(float, row)) for row in output]\n",
    "    return output\n",
    "\n",
    "def foil_mining(data,gen,airfoil,reys):\n",
    "    #make the data directory of the airfoil\n",
    "    loc = data+gen+'/'+airfoil+'/'\n",
    "    outputs = []\n",
    "    for rey in reys:\n",
    "        #get the output for each reynolds number\n",
    "        output = file_mining(loc+rey)\n",
    "        #put rey data with angle value\n",
    "        outputs.append([rey,output])\n",
    "    #example: [rey, [*angle, *cl, *cd]]\n",
    "    return outputs"
   ]
  },
  {
   "cell_type": "markdown",
   "metadata": {},
   "source": [
    "    class mining():\n",
    "        '''\n",
    "            airfoil: the series number of airfoil\n",
    "            rey: reynolds number\n",
    "            data_loc: the location of data directory\n",
    "            gen: which generation'''\n",
    "        def __init__(self, airfoil, rey, data_loc, gen):\n",
    "            self.airfoil = airfoil\n",
    "            self.rey = rey\n",
    "            self.data_loc = data_loc\n",
    "            self.gen = gen\n",
    "\n",
    "        def file_mining(file):\n",
    "            #open file and convert them into list\n",
    "            f = list(open(file, 'r'))\n",
    "            #only select those data (need to be test if there is a buy)\n",
    "            f = f[12:]\n",
    "            #contains a list contains all the [alpha, CL, CD]\n",
    "            output = [i.split()[:3] for i in f]\n",
    "            #since now output value elements are string, we need to con conver them to float\n",
    "            output = [list(map(float, row)) for row in output]\n",
    "            output = {row[0]: row[1:] for row in output}\n",
    "            #the output is a dictionary: {angle: [CL, CD]}\n",
    "            return output\n",
    "\n",
    "        def dir_mining(self):\n",
    "            loc = self.data_loc + self.gen\n",
    "            for model in airfoil:\n"
   ]
  },
  {
   "cell_type": "markdown",
   "metadata": {},
   "source": [
    "## Fitness function idea\n",
    "    1: reynolds number score:   rey: weights\n",
    "                                0.5: 1\n",
    "                                0.2: 2\n",
    "    \n",
    "    2: angle data score:        angle: weights\n",
    "                                13: 2\n",
    "                                \n",
    "                                \n",
    "    3: sum up those points\n",
    "    \n",
    "    \n",
    "    20% thickness\n",
    "    more importantly improve lift"
   ]
  },
  {
   "cell_type": "code",
   "execution_count": 5,
   "metadata": {},
   "outputs": [],
   "source": [
    "import numpy as np\n",
    "def heuristic(data):\n",
    "    #contains: airfoil info, rey, angles, data\n",
    "    #ratio = {angle: cl/cd}\n",
    "    for i in data:\n",
    "        angleP = heuristic_angle(i[1])\n",
    "        reyP = heuristic_rey(i[0])\n",
    "        \n",
    "def sigmoid(x):\n",
    "    return 1/(1 + np.exp(-x))\n",
    "\n",
    "def data_check(cl):\n",
    "    if max(cl) > 1.4:\n",
    "        return False\n",
    "    else:\n",
    "        return True\n",
    "        \n",
    "def heuristic_rey(rey):\n",
    "    '''angle 8,9,10 value weights 10'''\n",
    "    pass\n",
    "\n",
    "def heuristic_angle(datas):\n",
    "    data = np.transpose(datas)\n",
    "    if data_check(data[1]):\n",
    "        weights = 5 * sigmoid(data[0] / 2.5) + 0.01\n",
    "        point = data[1] * weights\n",
    "    else:\n",
    "        point = 6\n",
    "    return point        "
   ]
  },
  {
   "cell_type": "code",
   "execution_count": 6,
   "metadata": {},
   "outputs": [
    {
     "data": {
      "text/plain": [
       "array([1, 4, 9])"
      ]
     },
     "execution_count": 6,
     "metadata": {},
     "output_type": "execute_result"
    }
   ],
   "source": [
    "a = [1,2,3]\n",
    "a = np.array(a)\n",
    "a * a"
   ]
  },
  {
   "cell_type": "code",
   "execution_count": 7,
   "metadata": {},
   "outputs": [],
   "source": [
    "#constants setting\n",
    "airfoil_loc = 'airfoil/'\n",
    "data_loc = 'data/'\n",
    "angle_range = [-10, -8, 0,2,4,6,8,10]\n",
    "rey_range = [100000, 200000, 300000,400000,500000]"
   ]
  },
  {
   "cell_type": "code",
   "execution_count": 16,
   "metadata": {
    "scrolled": true
   },
   "outputs": [],
   "source": [
    "#reboost the system everytime it starts\n",
    "boostup(data_loc)"
   ]
  },
  {
   "cell_type": "code",
   "execution_count": 17,
   "metadata": {},
   "outputs": [],
   "source": [
    "def execute(airfoil_loc, airfoil, data_loc, angles, rey_range):\n",
    "    #create a directory for each airfoil\n",
    "    filedir = data_loc+airfoil\n",
    "    os.makedirs(filedir)\n",
    "    for RE in rey_range:\n",
    "        #coupling xfoil into python\n",
    "        ps = sp.Popen(['xfoil.exe'],\n",
    "                      stdin=sp.PIPE,\n",
    "                      stdout=None,\n",
    "                      stderr=None,\n",
    "                      encoding='utf8')\n",
    "        #execute the script\n",
    "        res = ps.communicate('\\n'.join(script(airfoil_loc,airfoil, filedir, angle_range, RE)))\n",
    "   "
   ]
  },
  {
   "cell_type": "code",
   "execution_count": 18,
   "metadata": {},
   "outputs": [],
   "source": [
    "execute('airfoil/1gen/', 'S813', 'data/1gen/', angle_range, rey_range)"
   ]
  }
 ],
 "metadata": {
  "kernelspec": {
   "display_name": "Python 3",
   "language": "python",
   "name": "python3"
  },
  "language_info": {
   "codemirror_mode": {
    "name": "ipython",
    "version": 3
   },
   "file_extension": ".py",
   "mimetype": "text/x-python",
   "name": "python",
   "nbconvert_exporter": "python",
   "pygments_lexer": "ipython3",
   "version": "3.6.2"
  }
 },
 "nbformat": 4,
 "nbformat_minor": 2
}
