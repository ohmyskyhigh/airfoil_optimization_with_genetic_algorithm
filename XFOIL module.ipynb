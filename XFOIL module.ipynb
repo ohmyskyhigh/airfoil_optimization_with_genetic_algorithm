{
 "cells": [
  {
   "cell_type": "markdown",
   "metadata": {},
   "source": [
    " ## XFOIL analysis with python UI"
   ]
  },
  {
   "cell_type": "markdown",
   "metadata": {},
   "source": [
    "## init"
   ]
  },
  {
   "cell_type": "code",
   "execution_count": 1,
   "metadata": {},
   "outputs": [],
   "source": [
    "import subprocess as sp\n",
    "import shutil\n",
    "import sys\n",
    "import string\n",
    "import shutil\n"
   ]
  },
  {
   "cell_type": "code",
   "execution_count": 2,
   "metadata": {},
   "outputs": [],
   "source": [
    "import os\n",
    "from pathlib import Path\n",
    "import sched, time\n",
    "def boostup(loc):\n",
    "    p = Path(loc)\n",
    "    #if the directory is there, delete it\n",
    "    if p.is_dir():\n",
    "        shutil.rmtree(loc)\n",
    "    #when the directory is still ther, sleep\n",
    "    while p.is_dir():\n",
    "        time.sleep(2)\n",
    "    #create da directory\n",
    "    os.makedirs(loc)\n",
    "    pass"
   ]
  },
  {
   "cell_type": "markdown",
   "metadata": {},
   "source": [
    "## file and data mining"
   ]
  },
  {
   "cell_type": "code",
   "execution_count": 3,
   "metadata": {},
   "outputs": [],
   "source": [
    "def file_mining(file):\n",
    "    #open file and convert them into list\n",
    "    f = list(open(file, 'r'))\n",
    "    #only select those data (need to be test if there is a buy)\n",
    "    f = f[12:]\n",
    "    #contains a list contains all the [alpha, CL]\n",
    "    output = [i.split()[:2] for i in f]\n",
    "    #since now output value elements are string, we need to con conver them to float\n",
    "    output = [list(map(float, row)) for row in output]\n",
    "    return output\n",
    "\n",
    "def data_mining(data_loc,reys):\n",
    "    #make the data directory of the airfoil\n",
    "    airfoils = foil_mining(data_loc)\n",
    "    for airfoil in airfoils:\n",
    "        loc = data_loc+airfoil+'/'\n",
    "        outputs = []\n",
    "        for rey in reys:\n",
    "            #get the output for each reynolds number\n",
    "            output = file_mining(loc+str(rey)+'.txt')\n",
    "            #put rey data with angle value\n",
    "            outputs.append([rey,output])\n",
    "            #example: [rey, [*angle, *cl, *cd]]\n",
    "        yield airfoil, outputs"
   ]
  },
  {
   "cell_type": "code",
   "execution_count": 4,
   "metadata": {},
   "outputs": [],
   "source": [
    "from os import listdir\n",
    "from os.path import isfile, join\n",
    "\n",
    "def foil_mining(airfoil_loc):\n",
    "    #get only the files in a directory \n",
    "    #if boo=True, only get files, if boo=False\n",
    "    file_list = [f for f in listdir(airfoil_loc)]\n",
    "    # get only the airfoil name\n",
    "    for f in file_list:\n",
    "        yield f.split('.')[0]"
   ]
  },
  {
   "cell_type": "markdown",
   "metadata": {},
   "source": [
    "# algorithm"
   ]
  },
  {
   "cell_type": "markdown",
   "metadata": {},
   "source": [
    "### Fitness function idea\n",
    "    1: reynolds number score:   rey: weights\n",
    "                                0.5: 1\n",
    "                                0.2: 2\n",
    "    \n",
    "    2: angle data score:        angle: weights\n",
    "                                13: 2\n",
    "                                \n",
    "                                \n",
    "    3: sum up those points\n",
    "    \n",
    "    \n",
    "    20% thickness\n",
    "    more importantly improve lift"
   ]
  },
  {
   "cell_type": "code",
   "execution_count": 5,
   "metadata": {},
   "outputs": [],
   "source": [
    "def sigmoid(x):\n",
    "    return 1/(1 + np.exp(-x))\n",
    "\n",
    "def data_check(cl):\n",
    "    if max(cl) < 1.4:\n",
    "        return True\n",
    "    else:\n",
    "        return False\n",
    "    \n",
    "def frange(start, finish, interval=1.0):\n",
    "    #frange starts from small angle to large angle\n",
    "    assert finish > start, 'frange start with smaller number'\n",
    "    x = float(start)\n",
    "    out = [x]\n",
    "    while x < float(finish):\n",
    "        x+=interval\n",
    "        out.append(round(x, 5))\n",
    "    return out"
   ]
  },
  {
   "cell_type": "code",
   "execution_count": 6,
   "metadata": {},
   "outputs": [],
   "source": [
    "import numpy as np\n",
    "def heuristic(mata_data):\n",
    "    #contains: airfoil info, rey, angles, data\n",
    "    #for each reynolds number\n",
    "    final_score = {}\n",
    "    for airfoil, data in mata_data:\n",
    "        #data [angle, cl]\n",
    "        score = 0\n",
    "        for i in data:\n",
    "            #get score for the each reynolds number\n",
    "            angleP = heuristic_angle(i[1])\n",
    "            #weight them by different reynolds number\n",
    "            reyP = heuristic_rey(i[0])\n",
    "            #sum them up\n",
    "            score += angleP * reyP\n",
    "            score = float('%.3f' % round(score, 3))\n",
    "        final_score.update({airfoil: score})\n",
    "    return final_score\n",
    "\n",
    "def heuristic_rey(rey):\n",
    "    #haven't decide the model yet!!!!!\n",
    "    '''need to discuss this'''\n",
    "    return 1\n",
    "\n",
    "def heuristic_angle(datas):\n",
    "    data = np.transpose(datas)\n",
    "    if data_check(data[1]):\n",
    "        #use costumized sigmoid function to get weights\n",
    "        ## mainly to enhance the importance of the Cls above 8 degree AOT\n",
    "        weights = 10 * sigmoid((data[0]-3) / 2.5) + 0.01\n",
    "        #get the score for each angle\n",
    "        points = data[1] * weights\n",
    "        #positive all the negative term\n",
    "        points = np.sqrt(points**2)\n",
    "        #averge them and times 10\n",
    "        final_point = np.average(points) * 10\n",
    "    else:\n",
    "        pass\n",
    "    #only output the score up to 3 decimal places\n",
    "    return final_point"
   ]
  },
  {
   "cell_type": "code",
   "execution_count": 32,
   "metadata": {},
   "outputs": [],
   "source": [
    "import operator\n",
    "def sort_airfoil(data, old_champs=[]):\n",
    "    #sort airfoil according to score from big to small\n",
    "    candidates = list(data.items())\n",
    "    candidates += old_champs\n",
    "    return (sorted(candidates, key=operator.itemgetter(1), reverse=True))"
   ]
  },
  {
   "cell_type": "markdown",
   "metadata": {},
   "source": [
    "### airfoil generator"
   ]
  },
  {
   "cell_type": "code",
   "execution_count": 8,
   "metadata": {},
   "outputs": [],
   "source": [
    "def generator(parents, mutation_intensity):\n",
    "    for father in parents.values():\n",
    "        for mother in parents.values():\n",
    "            if father != mother:\n",
    "                reproduction(father, mother)"
   ]
  },
  {
   "cell_type": "markdown",
   "metadata": {},
   "source": [
    "## script and setup\n",
    "\n",
    "this is to setup the script and couple the python with Xfoil\n",
    "    "
   ]
  },
  {
   "cell_type": "markdown",
   "metadata": {},
   "source": [
    "__xfoil commend:__\n",
    "    \n",
    "    LOAD dat/e1211-il.dat\tLoad the dat file\n",
    "    MDES\tGo to the MDES menu\n",
    "    FILT\tSmooth any variations in the dat file data\n",
    "    EXEC\tExecute the smoothing\n",
    "            Back to main menu\n",
    "    PANE\tSet the number and location of the airfoil points for analysis\n",
    "    OPER\tGo to the OPER menu\n",
    "    ITER 70\tMax number of iterations set to 70 for convergence\n",
    "    RE 50000\tSet Reynolds number (required?)\n",
    "    VISC 50000\tSet viscous calculation with Reynolds number\n",
    "    PACC\tStart polar output file\n",
    "    polar/e1211-il_50000.txt\tThe output polar file name\n",
    "            No dump file\n",
    "    ALFA 0\tCalculate lift and drag at 0° angle of attack\n",
    "    ALFA 0.25\t... 0.25°\n",
    "    ALFA 0.5\t... 0.5° ...\n",
    "    ...\t...more alpha calculations here ...\n",
    "    ALFA 3.5\tAt 3.5° no convergence\n",
    "    ALFA 3.5\t... try again ...\n",
    "    ALFA 3.5\t... and again\n",
    "    INIT\tRun INIT to reinitialise\n",
    "    ALFA 3.75\tSkip to 3.75°\n",
    "    ...\t...rest of alpha calculations here ...\n",
    "    PACC\tClose polar file\n",
    "    VISC\tReinitialise viscous calculation (required?)\n",
    "    Down to main menu\n",
    "    QUIT\tExit Xfoil"
   ]
  },
  {
   "cell_type": "code",
   "execution_count": 9,
   "metadata": {},
   "outputs": [],
   "source": [
    "def script(airfoil_loc, airfoil, data_loc, AOT, RE):\n",
    "    load_script = ['load '+airfoil_loc+airfoil+\".txt\", \n",
    "            airfoil,\n",
    "            'MDES',\n",
    "            'FILT',\n",
    "            'EXEC',\n",
    "            ' ',\n",
    "            'PANE',\n",
    "            'OPER',\n",
    "            'ITER 150']       \n",
    "    #define the output file name (different reynolds number has different file)\n",
    "    data_file_name = data_loc+'/'+str(RE)+'.txt'\n",
    "    #check and create file\n",
    "    constant_set = ['RE ' + str(RE),\n",
    "                    'VISC ' +str(RE),\n",
    "                    'PACC', \n",
    "                    data_file_name,\n",
    "                    ' ']\n",
    "    #analyse different angle of attack\n",
    "    alpha = ['ALFA '+str(a) for a in AOT]\n",
    "    init = constant_set + alpha + ['PACC', ' ',]\n",
    "    load_script += init\n",
    "    load_script += [' ', ' ', 'QUIT\\n']\n",
    "    return load_script"
   ]
  },
  {
   "cell_type": "code",
   "execution_count": 10,
   "metadata": {},
   "outputs": [],
   "source": [
    "def execute(airfoil_loc, airfoil, data_loc, angles, rey_range):\n",
    "    #create a directory for each airfoil\n",
    "    filedir = data_loc+airfoil\n",
    "    os.makedirs(filedir)\n",
    "    for RE in rey_range:\n",
    "        #coupling xfoil into python\n",
    "        ps = sp.Popen(['xfoil.exe'],\n",
    "                      stdin=sp.PIPE,\n",
    "                      stdout=None,\n",
    "                      stderr=None,\n",
    "                      encoding='utf8')\n",
    "        #execute the script\n",
    "        res = ps.communicate('\\n'.join(script(airfoil_loc,airfoil, filedir, angle_range, RE)))\n",
    "   "
   ]
  },
  {
   "cell_type": "markdown",
   "metadata": {},
   "source": [
    "## run\n",
    "\n",
    "This is to execute the whole programme with genetic algorithm.\n",
    "    \n",
    "    variables:\n",
    "    epochs\n",
    "    airfoil\n",
    "    data_loc\n",
    "    airfoil_loc\n",
    "    reynolds number range\n",
    "    angle range"
   ]
  },
  {
   "cell_type": "code",
   "execution_count": 23,
   "metadata": {},
   "outputs": [],
   "source": [
    "#constants setting\n",
    "epochs = 1\n",
    "airfoil_dir = 'airfoil/'\n",
    "data_dir = 'data/'\n",
    "angle_range = frange(-10, 10, 0.25)\n",
    "rey_range = range(100000, 600000, 100000)\n",
    "num_parents = 2\n",
    "mutation_intensity = 0.2\n",
    "switch = False"
   ]
  },
  {
   "cell_type": "code",
   "execution_count": 12,
   "metadata": {
    "scrolled": true
   },
   "outputs": [],
   "source": [
    "#reboost the system everytime it starts\n",
    "#boostup(data_dir)"
   ]
  },
  {
   "cell_type": "code",
   "execution_count": 91,
   "metadata": {},
   "outputs": [],
   "source": [
    "#set generation\n",
    "gen = '1gen'\n",
    "#generate locations\n",
    "data_loc = data_dir+gen+'/'\n",
    "airfoil_loc = airfoil_dir+gen+'/'\n",
    "# best airfoils that is going to produce children\n",
    "winners = []\n",
    "# those airfoils file location\n",
    "winners_loc = {}"
   ]
  },
  {
   "cell_type": "code",
   "execution_count": 12,
   "metadata": {},
   "outputs": [],
   "source": [
    "#execute airfoil to each of the airfoil in the folder\n",
    "for airfoil in foil_mining('airfoil/1gen'):\n",
    "    ang_range = list(angle_range)\n",
    "    execute(airfoil_loc, airfoil, data_loc, ang_range+ang_range[::-1], rey_range)"
   ]
  },
  {
   "cell_type": "code",
   "execution_count": 92,
   "metadata": {},
   "outputs": [],
   "source": [
    "mata_data = data_mining(data_loc, rey_range)\n",
    "\n",
    "scores = sort_airfoil(heuristic(mata_data), winners)\n",
    "\n",
    "# basically, the winners will be reused in the next generation for comparation see if the next generation got better\n",
    "# choose the number of parents in this model\n",
    "winners = scores[:num_parents]\n",
    "#get the location in dict formate\n",
    "winners_loc.update({i: data_loc+i+'.txt' for i, _ in winners if i not in winners_loc})\n",
    "winners_loc = {airfoil: winners_loc[airfoil] for airfoil, _ in winners}"
   ]
  },
  {
   "cell_type": "code",
   "execution_count": 25,
   "metadata": {},
   "outputs": [
    {
     "ename": "AttributeError",
     "evalue": "'list' object has no attribute 'values'",
     "output_type": "error",
     "traceback": [
      "\u001b[1;31m---------------------------------------------------------------------------\u001b[0m",
      "\u001b[1;31mAttributeError\u001b[0m                            Traceback (most recent call last)",
      "\u001b[1;32m<ipython-input-25-76bac227d144>\u001b[0m in \u001b[0;36m<module>\u001b[1;34m()\u001b[0m\n\u001b[1;32m----> 1\u001b[1;33m \u001b[0mgenerator\u001b[0m\u001b[1;33m(\u001b[0m\u001b[0mscores\u001b[0m\u001b[1;33m,\u001b[0m \u001b[0mmutation_intensity\u001b[0m\u001b[1;33m)\u001b[0m\u001b[1;33m\u001b[0m\u001b[0m\n\u001b[0m",
      "\u001b[1;32m<ipython-input-8-aca67379af0e>\u001b[0m in \u001b[0;36mgenerator\u001b[1;34m(parents, mutation_intensity)\u001b[0m\n\u001b[0;32m      1\u001b[0m \u001b[1;32mdef\u001b[0m \u001b[0mgenerator\u001b[0m\u001b[1;33m(\u001b[0m\u001b[0mparents\u001b[0m\u001b[1;33m,\u001b[0m \u001b[0mmutation_intensity\u001b[0m\u001b[1;33m)\u001b[0m\u001b[1;33m:\u001b[0m\u001b[1;33m\u001b[0m\u001b[0m\n\u001b[1;32m----> 2\u001b[1;33m     \u001b[1;32mfor\u001b[0m \u001b[0mfather\u001b[0m \u001b[1;32min\u001b[0m \u001b[0mparents\u001b[0m\u001b[1;33m.\u001b[0m\u001b[0mvalues\u001b[0m\u001b[1;33m(\u001b[0m\u001b[1;33m)\u001b[0m\u001b[1;33m:\u001b[0m\u001b[1;33m\u001b[0m\u001b[0m\n\u001b[0m\u001b[0;32m      3\u001b[0m         \u001b[1;32mfor\u001b[0m \u001b[0mmother\u001b[0m \u001b[1;32min\u001b[0m \u001b[0mparents\u001b[0m\u001b[1;33m.\u001b[0m\u001b[0mvalues\u001b[0m\u001b[1;33m(\u001b[0m\u001b[1;33m)\u001b[0m\u001b[1;33m:\u001b[0m\u001b[1;33m\u001b[0m\u001b[0m\n\u001b[0;32m      4\u001b[0m             \u001b[1;32mif\u001b[0m \u001b[0mfather\u001b[0m \u001b[1;33m!=\u001b[0m \u001b[0mmother\u001b[0m\u001b[1;33m:\u001b[0m\u001b[1;33m\u001b[0m\u001b[0m\n\u001b[0;32m      5\u001b[0m                 \u001b[0mreproduction\u001b[0m\u001b[1;33m(\u001b[0m\u001b[0mfather\u001b[0m\u001b[1;33m)\u001b[0m\u001b[1;33m\u001b[0m\u001b[0m\n",
      "\u001b[1;31mAttributeError\u001b[0m: 'list' object has no attribute 'values'"
     ]
    }
   ],
   "source": [
    "generator(scores, mutation_intensity)"
   ]
  },
  {
   "cell_type": "code",
   "execution_count": 93,
   "metadata": {},
   "outputs": [
    {
     "data": {
      "text/plain": [
       "{'NACA4421': 'data/1gen/NACA4421.txt', 'S823': 'data/1gen/S823.txt'}"
      ]
     },
     "execution_count": 93,
     "metadata": {},
     "output_type": "execute_result"
    }
   ],
   "source": [
    "winners_loc"
   ]
  }
 ],
 "metadata": {
  "kernelspec": {
   "display_name": "Python 3",
   "language": "python",
   "name": "python3"
  },
  "language_info": {
   "codemirror_mode": {
    "name": "ipython",
    "version": 3
   },
   "file_extension": ".py",
   "mimetype": "text/x-python",
   "name": "python",
   "nbconvert_exporter": "python",
   "pygments_lexer": "ipython3",
   "version": "3.6.2"
  }
 },
 "nbformat": 4,
 "nbformat_minor": 2
}
