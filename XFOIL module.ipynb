{
 "cells": [
  {
   "cell_type": "markdown",
   "metadata": {},
   "source": [
    "## XFOIL analysis with python UI"
   ]
  },
  {
   "cell_type": "markdown",
   "metadata": {},
   "source": [
    "    Commend \"LOAD\"\n",
    "            \"GDES\" switches the XFOIL to geometry design stage\n",
    "            \"CADD\" adds corner points to satisfy user specified angle threshold.\n",
    "            \"PANEL\" regenerates vertices\n",
    "            \"OPER\" switches the program to aerodynamic analysis mode\n",
    "            \"ALFA 5\" angle of attack = 5\n",
    "        "
   ]
  },
  {
   "cell_type": "code",
   "execution_count": 71,
   "metadata": {},
   "outputs": [],
   "source": [
    "import subprocess as sp\n",
    "import shutil\n",
    "import sys\n",
    "import string"
   ]
  },
  {
   "cell_type": "code",
   "execution_count": 72,
   "metadata": {},
   "outputs": [],
   "source": [
    "def script(airfoil, data_loc, AOT, Reynold):\n",
    "    load_script = ['load '+airfoil+\".txt\",\n",
    "            'MDES',\n",
    "            'FILT',\n",
    "            'EXEC',\n",
    "            ' ',\n",
    "            'PANE',\n",
    "            'OPER',\n",
    "            'ITER 100']\n",
    "    for RE in Reynold:\n",
    "        data_file_name = data_loc+airfoil+'_'+str(RE)+'.txt'\n",
    "        constant_set = ['RE '+str(RE),\n",
    "                        'VISC '+str(RE), \n",
    "                        'PACC', \n",
    "                        data_file_name,\n",
    "                        ' ']\n",
    "        alpha = ['ALFA '+str(a) for a in AOT]\n",
    "        init = constant_set + alpha + ['PACC']\n",
    "        load_script += init\n",
    "    load_script += [' ', ' ', 'QUIT\\n']\n",
    "    return load_script"
   ]
  },
  {
   "cell_type": "code",
   "execution_count": 73,
   "metadata": {},
   "outputs": [],
   "source": [
    "ps = sp.Popen(['xfoil.exe'],\n",
    "              stdin=sp.PIPE,\n",
    "              stdout=None,\n",
    "              stderr=None,\n",
    "              encoding='utf8')\n",
    "res = ps.communicate('\\n'.join(script('S813', 'data/', [0,1,2,3,4,5], [300000,400000,500000])))"
   ]
  },
  {
   "cell_type": "code",
   "execution_count": null,
   "metadata": {},
   "outputs": [],
   "source": []
  }
 ],
 "metadata": {
  "kernelspec": {
   "display_name": "Python 3",
   "language": "python",
   "name": "python3"
  },
  "language_info": {
   "codemirror_mode": {
    "name": "ipython",
    "version": 3
   },
   "file_extension": ".py",
   "mimetype": "text/x-python",
   "name": "python",
   "nbconvert_exporter": "python",
   "pygments_lexer": "ipython3",
   "version": "3.6.2"
  }
 },
 "nbformat": 4,
 "nbformat_minor": 2
}
