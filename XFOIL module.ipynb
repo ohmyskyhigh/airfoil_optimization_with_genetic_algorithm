{
 "cells": [
  {
   "cell_type": "markdown",
   "metadata": {},
   "source": [
    " ## XFOIL analysis with python UI"
   ]
  },
  {
   "cell_type": "markdown",
   "metadata": {},
   "source": [
    "## init"
   ]
  },
  {
   "cell_type": "code",
   "execution_count": 1,
   "metadata": {},
   "outputs": [],
   "source": [
    "import subprocess as sp\n",
    "import shutil\n",
    "import sys\n",
    "import string\n",
    "import shutil\n",
    "from os.path import isfile, join\n",
    "from os import listdir"
   ]
  },
  {
   "cell_type": "code",
   "execution_count": 2,
   "metadata": {},
   "outputs": [],
   "source": [
    "import os\n",
    "from pathlib import Path\n",
    "import sched, time\n",
    "def boostup(data_loc, airfoil_loc):\n",
    "    p = Path(data_loc)\n",
    "    #if the directory is there, delete it\n",
    "    if p.is_dir():\n",
    "        shutil.rmtree(data_loc)\n",
    "    #when the directory is still ther, sleep\n",
    "    while p.is_dir():\n",
    "        time.sleep(2)\n",
    "    #create da directory\n",
    "    os.makedirs(data_loc)\n",
    "    \n",
    "    #get the list of dir in a path\n",
    "    f = Path(airfoil_loc)\n",
    "    #if the directory is there, delete it\n",
    "    if f.is_dir():\n",
    "        shutil.rmtree(airfoil_loc)\n",
    "    #when the directory is still ther, sleep\n",
    "    while f.is_dir():\n",
    "        time.sleep(2)\n",
    "    #create da directory\n",
    "    os.makedirs(airfoil_loc)\n",
    "    shutil.copytree('backup', airfoil_loc+'1gen')\n",
    "    pass"
   ]
  },
  {
   "cell_type": "markdown",
   "metadata": {},
   "source": [
    "## file and data mining"
   ]
  },
  {
   "cell_type": "code",
   "execution_count": 3,
   "metadata": {},
   "outputs": [],
   "source": [
    "from os import listdir\n",
    "\n",
    "\n",
    "def foil_mining(airfoil_loc):\n",
    "    #get only the files in a directory \n",
    "    #if boo=True, only get files, if boo=False\n",
    "    file_list = [f for f in listdir(airfoil_loc)]\n",
    "    # get only the airfoil name\n",
    "    for f in file_list:\n",
    "        yield f.split('.')[0]\n",
    "\n",
    "def file_mining(file):\n",
    "    #open file and convert them into list\n",
    "    f = list(open(file, 'r'))\n",
    "    #only select those data (need to be test if there is a buy)\n",
    "    f = f[12:]\n",
    "    #contains a list contains all the [alpha, CL]\n",
    "    output = [i.split()[:2] for i in f]\n",
    "    #since now output value elements are string, we need to con conver them to float\n",
    "    output = [list(map(float, row)) for row in output]\n",
    "    return output\n",
    "\n",
    "def data_mining(data_loc,reys):\n",
    "    #make the data directory of the airfoil\n",
    "    airfoils = foil_mining(data_loc)\n",
    "    for airfoil in airfoils:\n",
    "        loc = data_loc+airfoil+'/'\n",
    "        outputs = []\n",
    "        #use foil mining function to mine reynolds number\n",
    "        reys = foil_mining(loc)\n",
    "        for rey in reys:\n",
    "            #get the output for each reynolds number\n",
    "            output = file_mining(loc+str(rey)+'.txt')\n",
    "            #put rey data with angle value\n",
    "            outputs.append([rey,output])\n",
    "            #example: [rey, [*angle, *cl, *cd]]\n",
    "        yield airfoil, outputs"
   ]
  },
  {
   "cell_type": "markdown",
   "metadata": {},
   "source": [
    "# algorithm"
   ]
  },
  {
   "cell_type": "markdown",
   "metadata": {},
   "source": [
    "### Fitness function idea\n",
    "    1: reynolds number score:   rey: weights\n",
    "                                0.5: 1\n",
    "                                0.2: 2\n",
    "    \n",
    "    2: angle data score:        angle: weights\n",
    "                                13: 2\n",
    "                                \n",
    "                                \n",
    "    3: sum up those points\n",
    "    \n",
    "    \n",
    "    20% thickness\n",
    "    more importantly improve lift"
   ]
  },
  {
   "cell_type": "code",
   "execution_count": 4,
   "metadata": {},
   "outputs": [],
   "source": [
    "def sigmoid(x):\n",
    "    return 1/(1 + np.exp(-x))\n",
    "\n",
    "def data_check(cl):\n",
    "    if max(cl) < 1.4:\n",
    "        return True\n",
    "    else:\n",
    "        return False\n",
    "    \n",
    "def frange(start, finish, interval=1.0):\n",
    "    #frange starts from small angle to large angle\n",
    "    assert finish > start, 'frange start with smaller number'\n",
    "    x = float(start)\n",
    "    out = [x]\n",
    "    while x < float(finish):\n",
    "        x+=interval\n",
    "        out.append(round(x, 5))\n",
    "    return out"
   ]
  },
  {
   "cell_type": "markdown",
   "metadata": {},
   "source": [
    "    give weighting to Cd\n",
    "    fix flow condition\n",
    "    loss function explaination"
   ]
  },
  {
   "cell_type": "code",
   "execution_count": 5,
   "metadata": {},
   "outputs": [],
   "source": [
    "import numpy as np\n",
    "def heuristic(mata_data):\n",
    "    #contains: airfoil info, rey, angles, data\n",
    "    #for each reynolds number\n",
    "    final_score = {}\n",
    "    for airfoil, data in mata_data:\n",
    "        #data [angle, cl]\n",
    "        score = 0\n",
    "        for i in data:\n",
    "            #get score for the each reynolds number\n",
    "            angleP = heuristic_angle(i[1])\n",
    "            #weight them by different reynolds number\n",
    "            reyP = heuristic_rey(i[0])\n",
    "            #sum them up\n",
    "            score += angleP * reyP\n",
    "            score = float('%.3f' % round(score, 3))\n",
    "        final_score.update({airfoil: score})\n",
    "    return final_score\n",
    "\n",
    "def heuristic_rey(rey):\n",
    "    #haven't decide the model yet!!!!!\n",
    "    '''need to discuss this'''\n",
    "    return 1\n",
    "\n",
    "def heuristic_angle(datas):\n",
    "    #set initial point\n",
    "    final_point = 0\n",
    "    if datas:\n",
    "        data = np.transpose(datas)\n",
    "        #use costumized sigmoid function to get weights\n",
    "        ## mainly to enhance the importance of the Cls above 8 degree AOT\n",
    "        weights = 10 * sigmoid((data[0]-3) / 2.5) + 0.01\n",
    "        #get the score for each angle\n",
    "        points = data[1] * weights\n",
    "        #positive all the negative term\n",
    "        points = np.sqrt(points**2)\n",
    "        #averge them and times 10\n",
    "        final_point = np.average(points) * 10\n",
    "    else:\n",
    "        pass\n",
    "    #only output the score up to 3 decimal places\n",
    "    return final_point"
   ]
  },
  {
   "cell_type": "code",
   "execution_count": 6,
   "metadata": {},
   "outputs": [
    {
     "data": {
      "text/plain": [
       "<matplotlib.figure.Figure at 0x2600f8609e8>"
      ]
     },
     "metadata": {},
     "output_type": "display_data"
    }
   ],
   "source": [
    "import matplotlib.pyplot as plt\n",
    "\n",
    "x = np.array([n for n in frange(-10, 12, 0.1)])\n",
    "weight = 10 * sigmoid((x-3) / 2.5) + 0.01\n",
    "plt.plot(x, weight)\n",
    "plt.show()"
   ]
  },
  {
   "cell_type": "markdown",
   "metadata": {},
   "source": [
    "The sigmoid function is to evaluate airfoil performance in a particular fashion. Since we are dealing with subsonic wind turbine airfoil. The operational angle of attacks are usually around 10 to 13 degrees. therefore we are aiming to enhance the importance of the angle score above 10 degree, and slimmer the importance below that. \n",
    "\n",
    "AOA below 0 degree sometimes will have negative Cl, therefore I set the value as 0.01 to diminish the importance but not canceling the value"
   ]
  },
  {
   "cell_type": "code",
   "execution_count": 7,
   "metadata": {},
   "outputs": [],
   "source": [
    "import operator\n",
    "def sort_airfoil(data, old_champs=[]):\n",
    "    #sort airfoil according to score from big to small\n",
    "    candidates = list(data.items())\n",
    "    candidates += old_champs\n",
    "    return (sorted(candidates, key=operator.itemgetter(1), reverse=True))"
   ]
  },
  {
   "cell_type": "markdown",
   "metadata": {},
   "source": [
    "### airfoil generator"
   ]
  },
  {
   "cell_type": "code",
   "execution_count": 8,
   "metadata": {
    "scrolled": true
   },
   "outputs": [],
   "source": [
    "def file2cor(files_loc):\n",
    "    '''this is to get the airfoil cordinates in list'''\n",
    "    airfoil_cor = {}\n",
    "    for airfoil, file in files_loc.items():\n",
    "        #open files\n",
    "        f = list(open(file, 'r'))\n",
    "        # get rid of \\n term and space\n",
    "        cordinate = [(i.split('\\n')[0]).split(' ')[2:] for i in f]\n",
    "        cordinate = [list(filter(lambda x: len(x) > 0, cor)) for cor in cordinate]\n",
    "        cordinate = [list(map(float, row)) for row in cordinate]\n",
    "        #therefore this becomes [[x1, y1], [x2, y2], [x3, y3] ...]\n",
    "        \n",
    "        ''' don't convert object'''\n",
    "        #put the generator back to the dictionary\n",
    "        airfoil_cor[airfoil] = cordinate\n",
    "        \n",
    "    return airfoil_cor\n",
    "\n",
    "def cor2file(cordinates, loc=''):\n",
    "    assert type(cordinates) == dict, 'dude, this is dictionary parameter'\n",
    "    if not os.path.isdir(loc):\n",
    "        os.makedirs(loc)\n",
    "    for airfoil, plots in cordinates.items():\n",
    "        #create a write file\n",
    "        airfoil_loc = loc+airfoil+'.txt'\n",
    "        f = open(airfoil_loc, 'w+')\n",
    "        #turn every point into string format for joining\n",
    "        plots = list(plots)\n",
    "        plots_str = [list(map(str, row)) for row in (plots)]\n",
    "        #turned them into right format for writing into files\n",
    "        write_point = ['   '.join(row) for row in plots_str]\n",
    "        #write each point's location into the file\n",
    "        for row in write_point:\n",
    "            f.write(row+'\\n')\n",
    "        f.close()\n",
    "        #if thickness doesn't above 20%\n",
    "        #if not thickness(airfoil_loc, 0.2):\n",
    "        #    os.remove(airfoil_loc)\n",
    "    pass"
   ]
  },
  {
   "cell_type": "code",
   "execution_count": 9,
   "metadata": {},
   "outputs": [],
   "source": [
    "import random\n",
    "import itertools as it\n",
    "\n",
    "def generator(parents_loc, mutation_intensity, n_gen):\n",
    "    #open those locations and get the plots\n",
    "    parents = file2cor(parents_loc)\n",
    "    #set children airfoil\n",
    "    new_airfoil = {}\n",
    "    #gen name\n",
    "    surname = 'G'+str(n_gen).zfill(2)\n",
    "    #airfoil name\n",
    "    n_foil = 0\n",
    "    first_name = 'A{}'.format\n",
    "    \n",
    "    #generate all the possible combinations\n",
    "    couples = list(it.combinations(list(parents.keys()), 2))\n",
    "    for father, mother in couples:\n",
    "        #papa and mama produce some children\n",
    "        try:\n",
    "            child1, child2 = reproduction(parents[father], parents[mother], mutation_intensity)\n",
    "        except:\n",
    "            print(father, mother)\n",
    "\n",
    "        #get airfoil serial number and put them into dictionary\n",
    "        n_foil+=1\n",
    "        new_airfoil[surname+first_name(n_foil)] = child1\n",
    "                \n",
    "        n_foil+=1\n",
    "        new_airfoil[surname+first_name(n_foil)] = child2\n",
    "        \n",
    "    return new_airfoil\n",
    "\n",
    "def reproduction(father, mother, mutation_intensity):\n",
    "    #every airfoil should start and end with [1.0, 0.0]\n",
    "    father = list(father)\n",
    "    mother = list(mother)\n",
    "    \n",
    "    #find the split point\n",
    "    if [0.0, 0.0] in father:\n",
    "        idxF = father.index([0.0, 0.0])\n",
    "    else:\n",
    "        print(father)\n",
    "    if [0.0, 0.0] in mother:\n",
    "        idxM = mother.index([0.0, 0.0])\n",
    "    else:\n",
    "        print(mother)\n",
    "    \n",
    "    \n",
    "    #split genes\n",
    "    genesUp = [father[:idxF], mother[:idxF]]\n",
    "    genesDown = [father[idxF+1:], mother[idxM+1:]]\n",
    "    \n",
    "    #little bit mutation\n",
    "    genesUp = mutation(genesUp, mutation_intensity)\n",
    "    genesDown = mutation(genesDown, mutation_intensity)\n",
    "    \n",
    "    #new airfoil\n",
    "    child1 = genesUp[0] + [[0.0, 0.0]] + genesDown[1]\n",
    "    child2 = genesUp[1] + [[0.0, 0.0]] + genesDown[0]\n",
    "    \n",
    "    #make sure they are in good formate fist and last are [1.0, 0.0]\n",
    "    child1[0] = child1[-1] = [1.0, 0.0]\n",
    "    child2[0] = child2[-1] = [1.0, 0.0]\n",
    "    \n",
    "    return child1, child2\n",
    "\n",
    "def mutation(genes, Kmu):\n",
    "    for gene in genes:\n",
    "        for alleles in gene:\n",
    "            if random.random() < Kmu:\n",
    "                alleles[1] = float(alleles[1]) + random.uniform(-1.0, 1.0)/1000\n",
    "    return genes"
   ]
  },
  {
   "cell_type": "markdown",
   "metadata": {},
   "source": [
    "## script and setup\n",
    "\n",
    "this is to setup the script and couple the python with Xfoil\n",
    "    "
   ]
  },
  {
   "cell_type": "markdown",
   "metadata": {},
   "source": [
    "__xfoil commend:__\n",
    "    \n",
    "    LOAD dat/e1211-il.dat\tLoad the dat file\n",
    "    MDES\tGo to the MDES menu\n",
    "    FILT\tSmooth any variations in the dat file data\n",
    "    EXEC\tExecute the smoothing\n",
    "            Back to main menu\n",
    "    PANE\tSet the number and location of the airfoil points for analysis\n",
    "    OPER\tGo to the OPER menu\n",
    "    ITER 70\tMax number of iterations set to 70 for convergence\n",
    "    RE 50000\tSet Reynolds number (required?)\n",
    "    VISC 50000\tSet viscous calculation with Reynolds number\n",
    "    PACC\tStart polar output file\n",
    "    polar/e1211-il_50000.txt\tThe output polar file name\n",
    "            No dump file\n",
    "    ALFA 0\tCalculate lift and drag at 0° angle of attack\n",
    "    ALFA 0.25\t... 0.25°\n",
    "    ALFA 0.5\t... 0.5° ...\n",
    "    ...\t...more alpha calculations here ...\n",
    "    ALFA 3.5\tAt 3.5° no convergence\n",
    "    ALFA 3.5\t... try again ...\n",
    "    ALFA 3.5\t... and again\n",
    "    INIT\tRun INIT to reinitialise\n",
    "    ALFA 3.75\tSkip to 3.75°\n",
    "    ...\t...rest of alpha calculations here ...\n",
    "    PACC\tClose polar file\n",
    "    VISC\tReinitialise viscous calculation (required?)\n",
    "    Down to main menu\n",
    "    QUIT\tExit Xfoil"
   ]
  },
  {
   "cell_type": "code",
   "execution_count": 10,
   "metadata": {},
   "outputs": [],
   "source": [
    "def script(airfoil_loc, airfoil, data_loc, AOT, RE):\n",
    "    load_script = ['load '+airfoil_loc+airfoil+\".txt\", \n",
    "            airfoil,\n",
    "            'MDES',\n",
    "            'FILT',\n",
    "            'EXEC',\n",
    "            ' ',\n",
    "            'PANE',\n",
    "            'OPER',\n",
    "            'ITER 150']       \n",
    "    #define the output file name (different reynolds number has different file)\n",
    "    data_file_name = data_loc+'/'+str(RE)+'.txt'\n",
    "    #check and create file\n",
    "    constant_set = ['RE ' + str(RE),\n",
    "                    'VISC ' +str(RE),\n",
    "                    'PACC', \n",
    "                    data_file_name,\n",
    "                    ' ']\n",
    "    #analyse different angle of attack\n",
    "    alpha = ['ALFA '+str(a) for a in AOT]\n",
    "    init = constant_set + alpha + ['PACC', ' ',]\n",
    "    load_script += init\n",
    "    load_script += [' ', ' ', 'QUIT\\n']\n",
    "    return load_script"
   ]
  },
  {
   "cell_type": "code",
   "execution_count": 11,
   "metadata": {},
   "outputs": [],
   "source": [
    "def execute(airfoil_loc, airfoil, data_loc, angles, rey_range):\n",
    "    #create a directory for each airfoil\n",
    "    filedir = data_loc+airfoil\n",
    "    if not os.path.isdir(filedir):\n",
    "        os.makedirs(filedir)\n",
    "    for RE in rey_range:\n",
    "        #coupling xfoil into python\n",
    "        if not isfile(filedir+'/'+str(RE)+'.txt'):\n",
    "            ps = sp.Popen(['xfoil.exe'],\n",
    "                          stdin=sp.PIPE,\n",
    "                          stdout=None,\n",
    "                          stderr=None,\n",
    "                          encoding='utf8')\n",
    "            #execute the script\n",
    "            res = ps.communicate('\\n'.join(script(airfoil_loc,airfoil, filedir, angle_range, RE)))\n",
    "   "
   ]
  },
  {
   "cell_type": "code",
   "execution_count": 12,
   "metadata": {},
   "outputs": [],
   "source": [
    "def thickness(airfoil_loc, min_thick):\n",
    "    '''this is to check if the airfoil have sufficient thickness'''\n",
    "    boo = False\n",
    "    \n",
    "    ps = sp.Popen(['xfoil.exe'],    \n",
    "                  stdin=sp.PIPE,                  \n",
    "                  stdout=sp.PIPE,                  \n",
    "                  stderr=None,                  \n",
    "                  encoding='utf8')       \n",
    "    #execute the script   \n",
    "    res = ps.communicate('\\n'.join(['load '+airfoil_loc, 'airfoil\\n']))\n",
    "    \n",
    "    #get the thickness index of the airfoil\n",
    "    result_text = list(filter(None, str(res[0]).split(' ')))\n",
    "    thickness_loc = result_text.index('thickness') + 2\n",
    "    thickness = float(result_text[thickness_loc])\n",
    "    print(thickness)\n",
    "    if thickness > min_thick:\n",
    "        boo = True\n",
    "    return boo"
   ]
  },
  {
   "cell_type": "markdown",
   "metadata": {},
   "source": [
    "## run\n",
    "\n",
    "This is to execute the whole programme with genetic algorithm.\n",
    "    \n",
    "    variables:\n",
    "    epochs\n",
    "    airfoil\n",
    "    data_loc\n",
    "    airfoil_loc\n",
    "    reynolds number range\n",
    "    angle range"
   ]
  },
  {
   "cell_type": "code",
   "execution_count": 14,
   "metadata": {},
   "outputs": [],
   "source": [
    "#constants setting\n",
    "epochs = 2\n",
    "airfoil_dir = 'airfoil/'\n",
    "data_dir = 'data/'\n",
    "'why do we choose this angle of attack'\n",
    "angle_range = frange(-10, 10, 0.1)\n",
    "'how to get this value?'\n",
    "rey_range = range(200000,400000, 100000)\n",
    "n_winners = 3\n",
    "mutation_intensity = 0.2"
   ]
  },
  {
   "cell_type": "code",
   "execution_count": 15,
   "metadata": {
    "scrolled": true
   },
   "outputs": [],
   "source": [
    "#reboost the system everytime it starts\n",
    "boostup(data_dir, airfoil_dir)\n"
   ]
  },
  {
   "cell_type": "code",
   "execution_count": 16,
   "metadata": {
    "scrolled": true
   },
   "outputs": [
    {
     "data": {
      "application/vnd.jupyter.widget-view+json": {
       "model_id": "0fa7119a6c0647dbad08976c75da8a71",
       "version_major": 2,
       "version_minor": 0
      },
      "text/html": [
       "<p>Failed to display Jupyter Widget of type <code>HBox</code>.</p>\n",
       "<p>\n",
       "  If you're reading this message in the Jupyter Notebook or JupyterLab Notebook, it may mean\n",
       "  that the widgets JavaScript is still loading. If this message persists, it\n",
       "  likely means that the widgets JavaScript library is either not installed or\n",
       "  not enabled. See the <a href=\"https://ipywidgets.readthedocs.io/en/stable/user_install.html\">Jupyter\n",
       "  Widgets Documentation</a> for setup instructions.\n",
       "</p>\n",
       "<p>\n",
       "  If you're reading this message in another frontend (for example, a static\n",
       "  rendering on GitHub or <a href=\"https://nbviewer.jupyter.org/\">NBViewer</a>),\n",
       "  it may mean that your frontend doesn't currently support widgets.\n",
       "</p>\n"
      ],
      "text/plain": [
       "HBox(children=(IntProgress(value=0, description='progress', max=2), HTML(value='')))"
      ]
     },
     "metadata": {},
     "output_type": "display_data"
    },
    {
     "data": {
      "application/vnd.jupyter.widget-view+json": {
       "model_id": "d32a5f77ad5149be8b928e5f2477d830",
       "version_major": 2,
       "version_minor": 0
      },
      "text/html": [
       "<p>Failed to display Jupyter Widget of type <code>HBox</code>.</p>\n",
       "<p>\n",
       "  If you're reading this message in the Jupyter Notebook or JupyterLab Notebook, it may mean\n",
       "  that the widgets JavaScript is still loading. If this message persists, it\n",
       "  likely means that the widgets JavaScript library is either not installed or\n",
       "  not enabled. See the <a href=\"https://ipywidgets.readthedocs.io/en/stable/user_install.html\">Jupyter\n",
       "  Widgets Documentation</a> for setup instructions.\n",
       "</p>\n",
       "<p>\n",
       "  If you're reading this message in another frontend (for example, a static\n",
       "  rendering on GitHub or <a href=\"https://nbviewer.jupyter.org/\">NBViewer</a>),\n",
       "  it may mean that your frontend doesn't currently support widgets.\n",
       "</p>\n"
      ],
      "text/plain": [
       "HBox(children=(IntProgress(value=1, bar_style='info', description='airfoil simulations', max=1), HTML(value='')))"
      ]
     },
     "metadata": {},
     "output_type": "display_data"
    },
    {
     "name": "stdout",
     "output_type": "stream",
     "text": [
      "NACA4421\n",
      "S813\n",
      "\n"
     ]
    },
    {
     "ename": "KeyboardInterrupt",
     "evalue": "",
     "output_type": "error",
     "traceback": [
      "\u001b[1;31m---------------------------------------------------------------------------\u001b[0m",
      "\u001b[1;31mKeyboardInterrupt\u001b[0m                         Traceback (most recent call last)",
      "\u001b[1;32m<ipython-input-16-91cf4580b01e>\u001b[0m in \u001b[0;36m<module>\u001b[1;34m()\u001b[0m\n\u001b[0;32m     17\u001b[0m         \u001b[0mprint\u001b[0m\u001b[1;33m(\u001b[0m\u001b[0mairfoil\u001b[0m\u001b[1;33m)\u001b[0m\u001b[1;33m\u001b[0m\u001b[0m\n\u001b[0;32m     18\u001b[0m         \u001b[0mang_range\u001b[0m \u001b[1;33m=\u001b[0m \u001b[0mlist\u001b[0m\u001b[1;33m(\u001b[0m\u001b[0mangle_range\u001b[0m\u001b[1;33m)\u001b[0m\u001b[1;33m\u001b[0m\u001b[0m\n\u001b[1;32m---> 19\u001b[1;33m         \u001b[0mexecute\u001b[0m\u001b[1;33m(\u001b[0m\u001b[0mairfoil_loc\u001b[0m\u001b[1;33m(\u001b[0m\u001b[0mgen\u001b[0m\u001b[1;33m)\u001b[0m\u001b[1;33m,\u001b[0m \u001b[0mairfoil\u001b[0m\u001b[1;33m,\u001b[0m \u001b[0mdata_loc\u001b[0m\u001b[1;33m,\u001b[0m \u001b[0mang_range\u001b[0m\u001b[1;33m,\u001b[0m \u001b[0mrey_range\u001b[0m\u001b[1;33m)\u001b[0m\u001b[1;33m\u001b[0m\u001b[0m\n\u001b[0m\u001b[0;32m     20\u001b[0m \u001b[1;33m\u001b[0m\u001b[0m\n\u001b[0;32m     21\u001b[0m     \u001b[1;31m#get lift coefficient of each angle in each reynolds number\u001b[0m\u001b[1;33m\u001b[0m\u001b[1;33m\u001b[0m\u001b[0m\n",
      "\u001b[1;32m<ipython-input-11-3a337cc0b1f9>\u001b[0m in \u001b[0;36mexecute\u001b[1;34m(airfoil_loc, airfoil, data_loc, angles, rey_range)\u001b[0m\n\u001b[0;32m     13\u001b[0m                           encoding='utf8')\n\u001b[0;32m     14\u001b[0m             \u001b[1;31m#execute the script\u001b[0m\u001b[1;33m\u001b[0m\u001b[1;33m\u001b[0m\u001b[0m\n\u001b[1;32m---> 15\u001b[1;33m             \u001b[0mres\u001b[0m \u001b[1;33m=\u001b[0m \u001b[0mps\u001b[0m\u001b[1;33m.\u001b[0m\u001b[0mcommunicate\u001b[0m\u001b[1;33m(\u001b[0m\u001b[1;34m'\\n'\u001b[0m\u001b[1;33m.\u001b[0m\u001b[0mjoin\u001b[0m\u001b[1;33m(\u001b[0m\u001b[0mscript\u001b[0m\u001b[1;33m(\u001b[0m\u001b[0mairfoil_loc\u001b[0m\u001b[1;33m,\u001b[0m\u001b[0mairfoil\u001b[0m\u001b[1;33m,\u001b[0m \u001b[0mfiledir\u001b[0m\u001b[1;33m,\u001b[0m \u001b[0mangle_range\u001b[0m\u001b[1;33m,\u001b[0m \u001b[0mRE\u001b[0m\u001b[1;33m)\u001b[0m\u001b[1;33m)\u001b[0m\u001b[1;33m)\u001b[0m\u001b[1;33m\u001b[0m\u001b[0m\n\u001b[0m\u001b[0;32m     16\u001b[0m \u001b[1;33m\u001b[0m\u001b[0m\n",
      "\u001b[1;32mc:\\anaconda3\\envs\\airfoil\\lib\\subprocess.py\u001b[0m in \u001b[0;36mcommunicate\u001b[1;34m(self, input, timeout)\u001b[0m\n\u001b[0;32m    828\u001b[0m                 \u001b[0mstderr\u001b[0m \u001b[1;33m=\u001b[0m \u001b[0mself\u001b[0m\u001b[1;33m.\u001b[0m\u001b[0mstderr\u001b[0m\u001b[1;33m.\u001b[0m\u001b[0mread\u001b[0m\u001b[1;33m(\u001b[0m\u001b[1;33m)\u001b[0m\u001b[1;33m\u001b[0m\u001b[0m\n\u001b[0;32m    829\u001b[0m                 \u001b[0mself\u001b[0m\u001b[1;33m.\u001b[0m\u001b[0mstderr\u001b[0m\u001b[1;33m.\u001b[0m\u001b[0mclose\u001b[0m\u001b[1;33m(\u001b[0m\u001b[1;33m)\u001b[0m\u001b[1;33m\u001b[0m\u001b[0m\n\u001b[1;32m--> 830\u001b[1;33m             \u001b[0mself\u001b[0m\u001b[1;33m.\u001b[0m\u001b[0mwait\u001b[0m\u001b[1;33m(\u001b[0m\u001b[1;33m)\u001b[0m\u001b[1;33m\u001b[0m\u001b[0m\n\u001b[0m\u001b[0;32m    831\u001b[0m         \u001b[1;32melse\u001b[0m\u001b[1;33m:\u001b[0m\u001b[1;33m\u001b[0m\u001b[0m\n\u001b[0;32m    832\u001b[0m             \u001b[1;32mif\u001b[0m \u001b[0mtimeout\u001b[0m \u001b[1;32mis\u001b[0m \u001b[1;32mnot\u001b[0m \u001b[1;32mNone\u001b[0m\u001b[1;33m:\u001b[0m\u001b[1;33m\u001b[0m\u001b[0m\n",
      "\u001b[1;32mc:\\anaconda3\\envs\\airfoil\\lib\\subprocess.py\u001b[0m in \u001b[0;36mwait\u001b[1;34m(self, timeout, endtime)\u001b[0m\n\u001b[0;32m   1045\u001b[0m             \u001b[1;32mif\u001b[0m \u001b[0mself\u001b[0m\u001b[1;33m.\u001b[0m\u001b[0mreturncode\u001b[0m \u001b[1;32mis\u001b[0m \u001b[1;32mNone\u001b[0m\u001b[1;33m:\u001b[0m\u001b[1;33m\u001b[0m\u001b[0m\n\u001b[0;32m   1046\u001b[0m                 result = _winapi.WaitForSingleObject(self._handle,\n\u001b[1;32m-> 1047\u001b[1;33m                                                     timeout_millis)\n\u001b[0m\u001b[0;32m   1048\u001b[0m                 \u001b[1;32mif\u001b[0m \u001b[0mresult\u001b[0m \u001b[1;33m==\u001b[0m \u001b[0m_winapi\u001b[0m\u001b[1;33m.\u001b[0m\u001b[0mWAIT_TIMEOUT\u001b[0m\u001b[1;33m:\u001b[0m\u001b[1;33m\u001b[0m\u001b[0m\n\u001b[0;32m   1049\u001b[0m                     \u001b[1;32mraise\u001b[0m \u001b[0mTimeoutExpired\u001b[0m\u001b[1;33m(\u001b[0m\u001b[0mself\u001b[0m\u001b[1;33m.\u001b[0m\u001b[0margs\u001b[0m\u001b[1;33m,\u001b[0m \u001b[0mtimeout\u001b[0m\u001b[1;33m)\u001b[0m\u001b[1;33m\u001b[0m\u001b[0m\n",
      "\u001b[1;31mKeyboardInterrupt\u001b[0m: "
     ]
    }
   ],
   "source": [
    "from tqdm import tqdm_notebook\n",
    "\n",
    "# best airfoils that is going to produce children\n",
    "winners = []\n",
    "# those airfoils file location\n",
    "winners_loc = {}\n",
    "for n in tqdm_notebook(range(epochs), desc='progress'):\n",
    "    #set generation\n",
    "    gen = str(n+1)\n",
    "    #generate locations\n",
    "    data_loc = data_dir+gen+'gen/'\n",
    "    airfoil_loc = (airfoil_dir+'{}'+'gen/').format\n",
    "    \n",
    "    #execute airfoil to each of the airfoil in the folder\n",
    "    airfoil_list = foil_mining(airfoil_loc(gen))\n",
    "    for airfoil in tqdm_notebook(airfoil_list, desc='airfoil simulations', leave=False):\n",
    "        print(airfoil)\n",
    "        ang_range = list(angle_range)\n",
    "        execute(airfoil_loc(gen), airfoil, data_loc, ang_range, rey_range)\n",
    "    \n",
    "    #get lift coefficient of each angle in each reynolds number\n",
    "    mata_data = data_mining(data_loc, rey_range)\n",
    "    \n",
    "    # basically, the winners will be reused in the next generation for comparation see if the next generation got better\n",
    "    #get the scores in such order than the highers one is the first one\n",
    "    '''we can see, here, the last gen winner will be comparing with this gen data as well'''\n",
    "    scores = sort_airfoil(heuristic(mata_data), winners)\n",
    "\n",
    "    # choose the number of parents in this model\n",
    "    winners = scores[:n_winners]\n",
    "    #get the location in dict formate\n",
    "    winners_loc.update({i: airfoil_loc(gen)+i+'.txt' for i, _ in winners if i not in winners_loc})\n",
    "    winners_loc = {airfoil: winners_loc[airfoil] for airfoil, _ in winners}\n",
    "    \n",
    "    print(winners)\n",
    "    print(winners_loc)\n",
    "    \n",
    "    #design new airfoil usint genetic algorithm\n",
    "    new_airfoil = generator(winners_loc, mutation_intensity, n+1)\n",
    "    #new generation for saving new airfoil\n",
    "    gen = str(n+2)\n",
    "    #save new airfoil\n",
    "    cor2file(new_airfoil, airfoil_loc(gen))"
   ]
  },
  {
   "cell_type": "code",
   "execution_count": null,
   "metadata": {},
   "outputs": [],
   "source": [
    "li = [1,2,3,4,5]\n",
    "li.index(0) == li.index(0)"
   ]
  },
  {
   "cell_type": "code",
   "execution_count": null,
   "metadata": {},
   "outputs": [],
   "source": [
    "airfoil_loc = (airfoil_dir+'{}'+'gen/').format\n",
    "airfoil_loc(3)"
   ]
  },
  {
   "cell_type": "code",
   "execution_count": null,
   "metadata": {},
   "outputs": [],
   "source": [
    "string(airfoil_loc)"
   ]
  },
  {
   "cell_type": "code",
   "execution_count": null,
   "metadata": {},
   "outputs": [],
   "source": [
    "#set generation\n",
    "gen = 'gen'\n",
    "#generate locations\n",
    "data_loc = data_dir+gen+'/'\n",
    "airfoil_loc = airfoil_dir+gen+'/'\n",
    "# best airfoils that is going to produce children\n",
    "winners = []\n",
    "# those airfoils file location\n",
    "winners_loc = {}"
   ]
  },
  {
   "cell_type": "code",
   "execution_count": null,
   "metadata": {},
   "outputs": [],
   "source": [
    "mata_data = data_mining(data_loc, rey_range)\n",
    "\n",
    "scores = sort_airfoil(heuristic(mata_data), winners)\n",
    "\n",
    "# basically, the winners will be reused in the next generation for comparation see if the next generation got better\n",
    "# choose the number of parents in this model\n",
    "winners = scores[:num_parents]\n",
    "#get the location in dict formate\n",
    "winners_loc.update({i: airfoil_loc+i+'.txt' for i, _ in winners if i not in winners_loc})\n",
    "winners_loc = {airfoil: winners_loc[airfoil] for airfoil, _ in winners}"
   ]
  },
  {
   "cell_type": "code",
   "execution_count": null,
   "metadata": {},
   "outputs": [],
   "source": [
    "winners"
   ]
  }
 ],
 "metadata": {
  "kernelspec": {
   "display_name": "Python 3",
   "language": "python",
   "name": "python3"
  },
  "language_info": {
   "codemirror_mode": {
    "name": "ipython",
    "version": 3
   },
   "file_extension": ".py",
   "mimetype": "text/x-python",
   "name": "python",
   "nbconvert_exporter": "python",
   "pygments_lexer": "ipython3",
   "version": "3.6.2"
  }
 },
 "nbformat": 4,
 "nbformat_minor": 2
}
